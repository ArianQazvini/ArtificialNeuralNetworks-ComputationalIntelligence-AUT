{
 "cells": [
  {
   "cell_type": "code",
   "execution_count": 76,
   "metadata": {
    "collapsed": true
   },
   "outputs": [],
   "source": [
    "import pandas as pd\n",
    "import numpy as np\n",
    "from sklearn.preprocessing import MinMaxScaler,StandardScaler\n",
    "from sklearn.metrics import accuracy_score\n",
    "from sklearn.model_selection import train_test_split\n",
    "from layers.fullyconnected import FC\n",
    "from layers.convolution2d import Conv2D\n",
    "from layers.maxpooling2d import MaxPool2D\n",
    "from activations import ReLU,LinearActivation,Sigmoid,Tanh,get_activation\n",
    "from losses.meansquarederror import MeanSquaredError\n",
    "from losses.binarycrossentropy import BinaryCrossEntropy\n",
    "from optimizers.adam import Adam,GD\n",
    "from model import Model\n",
    "from PIL import Image\n",
    "import os"
   ]
  },
  {
   "cell_type": "code",
   "execution_count": 77,
   "outputs": [],
   "source": [
    "def load_images_from_directory(directory):\n",
    "    images = []\n",
    "    for filename in os.listdir(directory):\n",
    "            image_path = os.path.join(directory, filename)\n",
    "            image = Image.open(image_path)\n",
    "            images.append(image)\n",
    "    return images\n",
    "directory_2 = 'datasets/MNIST/2'\n",
    "directory_5 = 'datasets/MNIST/5'\n",
    "images_2 = load_images_from_directory(directory_2)\n",
    "images_5 = load_images_from_directory(directory_5)\n",
    "\n",
    "data = []\n",
    "y=[] #class 1 for 2 and class 0 for 5\n",
    "\n",
    "\n",
    "for i in range(10):\n",
    "    temp1 = np.array(images_2[i], dtype=np.uint8)\n",
    "    data.append(temp1)\n",
    "    y.append(1)\n",
    "for i in range(10):\n",
    "    temp2 = np.array(images_5[i], dtype=np.uint8)\n",
    "    data.append(temp2)\n",
    "    y.append(0)"
   ],
   "metadata": {
    "collapsed": false
   }
  },
  {
   "cell_type": "code",
   "execution_count": 78,
   "outputs": [],
   "source": [
    "# normalized_data =[]\n",
    "# scaler = StandardScaler()\n",
    "# for i in range(len(data)):\n",
    "#     normalized_data.append(scaler.fit_transform(data[i]))\n"
   ],
   "metadata": {
    "collapsed": false
   }
  },
  {
   "cell_type": "code",
   "execution_count": 95,
   "outputs": [
    {
     "name": "stdout",
     "output_type": "stream",
     "text": [
      "Shape of x_train: (16, 28, 28, 1)\n",
      "Shape of x_test: (4, 28, 28, 1)\n",
      "Shape of y_train: (16, 1)\n",
      "Shape of y_test: (4, 1)\n"
     ]
    }
   ],
   "source": [
    "x_train, x_test, y_train, y_test = train_test_split(data, y, test_size=0.2, random_state=10)\n",
    "x_train = np.array(x_train)\n",
    "x_test = np.array(x_test)\n",
    "y_train = np.array(y_train).reshape(-1,1)\n",
    "y_test = np.array(y_test).reshape(-1,1)\n",
    "temp= x_test[3]\n",
    "temp_y= y_test[3]\n",
    "x_train = x_train.reshape(x_train.shape[0], 28, 28, 1)\n",
    "x_test = x_test.reshape(x_test.shape[0], 28, 28, 1)\n",
    "\n",
    "x_train = np.divide(x_train,255)\n",
    "x_test = np.divide(x_test,255)\n",
    "\n",
    "# Print the shapes of the resulting datasets\n",
    "print(\"Shape of x_train:\", x_train.shape)\n",
    "print(\"Shape of x_test:\", x_test.shape)\n",
    "print(\"Shape of y_train:\", y_train.shape)\n",
    "print(\"Shape of y_test:\", y_test.shape)"
   ],
   "metadata": {
    "collapsed": false
   }
  },
  {
   "cell_type": "code",
   "execution_count": 100,
   "outputs": [
    {
     "name": "stderr",
     "output_type": "stream",
     "text": [
      " 10%|█         | 10/100 [00:11<01:42,  1.13s/it]"
     ]
    },
    {
     "name": "stdout",
     "output_type": "stream",
     "text": [
      "Epoch 10: train cost = 0.05040654656903296\n"
     ]
    },
    {
     "name": "stderr",
     "output_type": "stream",
     "text": [
      " 20%|██        | 20/100 [00:23<01:35,  1.20s/it]"
     ]
    },
    {
     "name": "stdout",
     "output_type": "stream",
     "text": [
      "Epoch 20: train cost = 0.0034401075492974725\n"
     ]
    },
    {
     "name": "stderr",
     "output_type": "stream",
     "text": [
      " 30%|███       | 30/100 [00:42<02:14,  1.92s/it]"
     ]
    },
    {
     "name": "stdout",
     "output_type": "stream",
     "text": [
      "Epoch 30: train cost = 0.0011778085048729254\n"
     ]
    },
    {
     "name": "stderr",
     "output_type": "stream",
     "text": [
      " 40%|████      | 40/100 [01:01<01:55,  1.92s/it]"
     ]
    },
    {
     "name": "stdout",
     "output_type": "stream",
     "text": [
      "Epoch 40: train cost = 0.0006888436416445027\n"
     ]
    },
    {
     "name": "stderr",
     "output_type": "stream",
     "text": [
      " 50%|█████     | 50/100 [01:20<01:37,  1.94s/it]"
     ]
    },
    {
     "name": "stdout",
     "output_type": "stream",
     "text": [
      "Epoch 50: train cost = 0.0004737595656476763\n"
     ]
    },
    {
     "name": "stderr",
     "output_type": "stream",
     "text": [
      " 60%|██████    | 60/100 [01:40<01:16,  1.92s/it]"
     ]
    },
    {
     "name": "stdout",
     "output_type": "stream",
     "text": [
      "Epoch 60: train cost = 0.0003528426010551227\n"
     ]
    },
    {
     "name": "stderr",
     "output_type": "stream",
     "text": [
      " 70%|███████   | 70/100 [01:59<00:57,  1.92s/it]"
     ]
    },
    {
     "name": "stdout",
     "output_type": "stream",
     "text": [
      "Epoch 70: train cost = 0.000276712889034806\n"
     ]
    },
    {
     "name": "stderr",
     "output_type": "stream",
     "text": [
      " 80%|████████  | 80/100 [02:18<00:38,  1.91s/it]"
     ]
    },
    {
     "name": "stdout",
     "output_type": "stream",
     "text": [
      "Epoch 80: train cost = 0.00022474344208899422\n"
     ]
    },
    {
     "name": "stderr",
     "output_type": "stream",
     "text": [
      " 90%|█████████ | 90/100 [02:35<00:14,  1.48s/it]"
     ]
    },
    {
     "name": "stdout",
     "output_type": "stream",
     "text": [
      "Epoch 90: train cost = 0.00018764178038754617\n"
     ]
    },
    {
     "name": "stderr",
     "output_type": "stream",
     "text": [
      "100%|██████████| 100/100 [02:47<00:00,  1.67s/it]"
     ]
    },
    {
     "name": "stdout",
     "output_type": "stream",
     "text": [
      "Epoch 100: train cost = 0.00015950013096212943\n"
     ]
    },
    {
     "name": "stderr",
     "output_type": "stream",
     "text": [
      "\n"
     ]
    },
    {
     "data": {
      "text/plain": "([0.17475671869470397,\n  0.1677052404409103,\n  0.1575726124432007,\n  0.14772427760945456,\n  0.1343947601569108,\n  0.11741620334276864,\n  0.09977775180871742,\n  0.08241446423361015,\n  0.06522010009815157,\n  0.05040654656903296,\n  0.038158603566495836,\n  0.028255342371669448,\n  0.0208193504724597,\n  0.015149610178384215,\n  0.011172283361339368,\n  0.008411477106528818,\n  0.006485276766628724,\n  0.005101925686625829,\n  0.004130651164101485,\n  0.0034401075492974725,\n  0.002923047010269971,\n  0.0025160617871318467,\n  0.0022086739114326745,\n  0.0019651420706139843,\n  0.0017715694241724439,\n  0.0016070217746164159,\n  0.0014745331477483486,\n  0.0013634251230917073,\n  0.0012643169099474992,\n  0.0011778085048729254,\n  0.0011005445811916252,\n  0.0010342649234372533,\n  0.0009757702577513755,\n  0.000922499580653501,\n  0.000874746109092561,\n  0.0008322779748181363,\n  0.0007903099392847987,\n  0.0007540845281950764,\n  0.0007209271918078692,\n  0.0006888436416445027,\n  0.0006607078069726825,\n  0.0006332922384925309,\n  0.0006086924986387559,\n  0.0005853128378267877,\n  0.00056382600043287,\n  0.0005434020417842083,\n  0.0005244456212987193,\n  0.0005060758394647301,\n  0.0004893483609500764,\n  0.0004737595656476763,\n  0.0004580894880321563,\n  0.0004440621553139707,\n  0.00043092558100517775,\n  0.00041800374568639036,\n  0.00040566837370350096,\n  0.00039371476145252915,\n  0.0003826902704769203,\n  0.00037233108275508094,\n  0.00036251622371448016,\n  0.0003528426010551227,\n  0.0003439638233943872,\n  0.0003347754270173172,\n  0.00032656548100925203,\n  0.00031881506825222767,\n  0.0003110919620335036,\n  0.00030358900961217086,\n  0.00029629958162902064,\n  0.0002894841754673108,\n  0.00028300302049933925,\n  0.000276712889034806,\n  0.0002705781268853027,\n  0.00026473166721043765,\n  0.0002590903677371471,\n  0.0002536807433553091,\n  0.00024875848691209785,\n  0.00024336146379603843,\n  0.00023860329765338753,\n  0.00023383028734201919,\n  0.00022944332476361711,\n  0.00022474344208899422,\n  0.0002205594592916032,\n  0.00021636376421261562,\n  0.00021263625730961645,\n  0.00020836982741244056,\n  0.000204684401579779,\n  0.00020102633503958287,\n  0.00019748342247834417,\n  0.00019410448038302745,\n  0.00019070647582111955,\n  0.00018764178038754617,\n  0.00018427018960410604,\n  0.0001812619044426694,\n  0.00017827440461222683,\n  0.00017538320292968362,\n  0.00017247292817667472,\n  0.00016974809323546918,\n  0.00016714660881024114,\n  0.00016445739381724478,\n  0.00016196521359337186,\n  0.00015950013096212943],\n [])"
     },
     "execution_count": 100,
     "metadata": {},
     "output_type": "execute_result"
    }
   ],
   "source": [
    "cnn1 = Conv2D(1, 2, name=\"cnn1\", kernel_size=(3, 3), stride=(1, 1), padding=(1, 1),initialize_method=\"he\")\n",
    "relu1 = ReLU()\n",
    "maxpool1=MaxPool2D(kernel_size=(2, 2), stride=(2, 2))\n",
    "linear1=LinearActivation()\n",
    "cnn2=Conv2D(2, 4, name=\"cnn2\", kernel_size=(3, 3), stride=(1, 1), padding=(1, 1))\n",
    "relu2=ReLU()\n",
    "maxpool2=MaxPool2D(kernel_size=(2, 2), stride=(2, 2)) # output = 7*7*4\n",
    "linear2=LinearActivation()\n",
    "# cnn3=Conv2D(4, 6, name=\"cnn3\", kernel_size=(3, 3), stride=(1, 1), padding=(1, 1))\n",
    "# relu3=ReLU()\n",
    "# maxpool3=MaxPool2D(kernel_size=(2, 2), stride=(2, 2)) # output = 3*3*6\n",
    "# linear3=LinearActivation()\n",
    "fc1= FC(7*7*4, 8, \"fc1\")\n",
    "relu4= ReLU()\n",
    "fc2=FC(8, 1, \"fc2\")\n",
    "sigmoid2=Sigmoid()\n",
    "\n",
    "arch_model = {\n",
    "    \"cnn1\": cnn1,\n",
    "    \"relu1\": relu1,\n",
    "    \"maxpool1\":maxpool1,\n",
    "    \"lienar1\": linear1,\n",
    "    \"cnn2\": cnn2,\n",
    "    \"relu2\": relu2,\n",
    "    \"maxpool2\":maxpool2,\n",
    "    \"linear2\": linear2,\n",
    "    # \"cnn3\": cnn3,\n",
    "    # \"relu3\": relu3,\n",
    "    # \"maxpool3\": maxpool3,\n",
    "    # \"linear3\": linear3,\n",
    "    \"fc1\":fc1,\n",
    "    \"relu4\":relu4,\n",
    "    \"fc2\": fc2,\n",
    "    \"sigmoid2\": sigmoid2\n",
    "}\n",
    "\n",
    "\n",
    "layers_list = {\n",
    "    \"cnn1\": cnn1,\n",
    "    \"maxpool1\":maxpool1,\n",
    "    \"cnn2\": cnn2,\n",
    "    \"maxpool2\":maxpool2,\n",
    "    # \"cnn3\": cnn3,\n",
    "    # \"maxpool3\": maxpool3,\n",
    "    \"fc1\":fc1,\n",
    "    \"fc2\": fc2,\n",
    "}\n",
    "criterion = BinaryCrossEntropy()\n",
    "optimizer = Adam(layers_list)\n",
    "model = Model(arch_model, criterion, optimizer)\n",
    "model.train(x_train,y_train.T,epochs=100,batch_size=4,verbose=10,shuffling=False,save_after=\"model2\")\n",
    "\n",
    "\n",
    "\n"
   ],
   "metadata": {
    "collapsed": false
   }
  },
  {
   "cell_type": "markdown",
   "source": [
    "Train Accuracy"
   ],
   "metadata": {
    "collapsed": false
   }
  },
  {
   "cell_type": "code",
   "execution_count": 101,
   "outputs": [
    {
     "name": "stdout",
     "output_type": "stream",
     "text": [
      "100.0\n"
     ]
    }
   ],
   "source": [
    "y_predicted_train = model.predict(x_train)\n",
    "correct =0\n",
    "for i in range(len(y_train)):\n",
    "    if(y_predicted_train[0][i]>=0.5 and y_train[i][0]==1) or (y_predicted_train[0][i]<0.5 and y_train[i][0]==0):\n",
    "        correct+=1\n",
    "# test=[]\n",
    "# for i in x_test:\n",
    "#     test.append(i[:,:,0])\n",
    "print((correct/len(y_train))*100)"
   ],
   "metadata": {
    "collapsed": false
   }
  },
  {
   "cell_type": "markdown",
   "source": [
    "Test Accuracy"
   ],
   "metadata": {
    "collapsed": false
   }
  },
  {
   "cell_type": "code",
   "execution_count": 102,
   "outputs": [
    {
     "name": "stdout",
     "output_type": "stream",
     "text": [
      "75.0\n"
     ]
    },
    {
     "data": {
      "text/plain": "array([[2.79367400e-04, 3.86011754e-04, 6.74926633e-01, 9.99981193e-01]])"
     },
     "execution_count": 102,
     "metadata": {},
     "output_type": "execute_result"
    }
   ],
   "source": [
    "y_predicted= model.predict(x_test)\n",
    "correct =0\n",
    "for i in range(len(y_test)):\n",
    "    if(y_predicted[0][i]>=0.5 and y_test[i][0]==1) or (y_predicted[0][i]<0.5 and y_test[i][0]==0):\n",
    "        correct+=1\n",
    "\n",
    "# test=[]\n",
    "# for i in x_test:\n",
    "#     test.append(i[:,:,0])\n",
    "print((correct/len(y_test))*100)\n",
    "y_predicted\n",
    "\n",
    "# bce= BinaryCrossEntropy()\n",
    "# bce.compute(model.predict(x_test),y_test)"
   ],
   "metadata": {
    "collapsed": false
   }
  },
  {
   "cell_type": "code",
   "execution_count": 82,
   "outputs": [],
   "source": [],
   "metadata": {
    "collapsed": false
   }
  },
  {
   "cell_type": "code",
   "execution_count": 81,
   "outputs": [],
   "source": [],
   "metadata": {
    "collapsed": false
   }
  }
 ],
 "metadata": {
  "kernelspec": {
   "display_name": "Python 3",
   "language": "python",
   "name": "python3"
  },
  "language_info": {
   "codemirror_mode": {
    "name": "ipython",
    "version": 2
   },
   "file_extension": ".py",
   "mimetype": "text/x-python",
   "name": "python",
   "nbconvert_exporter": "python",
   "pygments_lexer": "ipython2",
   "version": "2.7.6"
  }
 },
 "nbformat": 4,
 "nbformat_minor": 0
}
