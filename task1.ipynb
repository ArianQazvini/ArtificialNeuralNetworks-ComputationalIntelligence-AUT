{
 "cells": [
  {
   "cell_type": "code",
   "execution_count": 1,
   "metadata": {
    "collapsed": true
   },
   "outputs": [],
   "source": [
    "import pandas as pd\n",
    "import numpy as np\n",
    "from sklearn.preprocessing import MinMaxScaler,StandardScaler\n",
    "from layers.fullyconnected import FC\n",
    "from activations import ReLU,LinearActivation,Sigmoid,Tanh,get_activation\n",
    "from losses.meansquarederror import MeanSquaredError\n",
    "from optimizers.adam import Adam,GD\n",
    "from model import Model"
   ]
  },
  {
   "cell_type": "code",
   "execution_count": 2,
   "outputs": [],
   "source": [
    "\n",
    "train_data = pd.read_csv('datasets/california_houses_price/california_housing_train.csv')\n",
    "test_data = pd.read_csv('datasets/california_houses_price/california_housing_test.csv')\n"
   ],
   "metadata": {
    "collapsed": false
   }
  },
  {
   "cell_type": "code",
   "execution_count": 3,
   "outputs": [
    {
     "data": {
      "text/plain": "(17000, 1)"
     },
     "execution_count": 3,
     "metadata": {},
     "output_type": "execute_result"
    }
   ],
   "source": [
    "features = train_data[:]\n",
    "#\n",
    "scaler = StandardScaler()\n",
    "# scaler = MinMaxScaler()\n",
    "normalized_data= scaler.fit_transform(features)\n",
    "normalized_data = pd.DataFrame(normalized_data)\n",
    "X=normalized_data.iloc[:,0:8].values\n",
    "y = normalized_data.iloc[:,8].to_frame()\n",
    "# y = X.reshape(-1,1)\n",
    "# temp =train_data[train_data.columns[:-1]].to_numpy()\n",
    "# temp= temp.reshape(-1, 1)\n",
    "\n",
    "arr = y.values\n",
    "y =  arr.reshape(-1,1)\n",
    "\n",
    "y.shape\n"
   ],
   "metadata": {
    "collapsed": false
   }
  },
  {
   "cell_type": "code",
   "execution_count": 4,
   "outputs": [
    {
     "name": "stderr",
     "output_type": "stream",
     "text": [
      "  1%|          | 12/2000 [00:00<02:16, 14.60it/s]"
     ]
    },
    {
     "name": "stdout",
     "output_type": "stream",
     "text": [
      "Epoch 10: train cost = 0.13431354245312152\n"
     ]
    },
    {
     "name": "stderr",
     "output_type": "stream",
     "text": [
      "  1%|          | 22/2000 [00:01<02:15, 14.54it/s]"
     ]
    },
    {
     "name": "stdout",
     "output_type": "stream",
     "text": [
      "Epoch 20: train cost = 0.12386298324088606\n"
     ]
    },
    {
     "name": "stderr",
     "output_type": "stream",
     "text": [
      "  2%|▏         | 32/2000 [00:02<02:15, 14.54it/s]"
     ]
    },
    {
     "name": "stdout",
     "output_type": "stream",
     "text": [
      "Epoch 30: train cost = 0.11912085252626356\n"
     ]
    },
    {
     "name": "stderr",
     "output_type": "stream",
     "text": [
      "  2%|▏         | 42/2000 [00:02<02:19, 14.09it/s]"
     ]
    },
    {
     "name": "stdout",
     "output_type": "stream",
     "text": [
      "Epoch 40: train cost = 0.11645262003523997\n"
     ]
    },
    {
     "name": "stderr",
     "output_type": "stream",
     "text": [
      "  3%|▎         | 52/2000 [00:03<02:25, 13.35it/s]"
     ]
    },
    {
     "name": "stdout",
     "output_type": "stream",
     "text": [
      "Epoch 50: train cost = 0.11295095784058942\n"
     ]
    },
    {
     "name": "stderr",
     "output_type": "stream",
     "text": [
      "  3%|▎         | 62/2000 [00:04<02:17, 14.11it/s]"
     ]
    },
    {
     "name": "stdout",
     "output_type": "stream",
     "text": [
      "Epoch 60: train cost = 0.11026052456210635\n"
     ]
    },
    {
     "name": "stderr",
     "output_type": "stream",
     "text": [
      "  4%|▎         | 72/2000 [00:05<02:14, 14.37it/s]"
     ]
    },
    {
     "name": "stdout",
     "output_type": "stream",
     "text": [
      "Epoch 70: train cost = 0.10797276746626712\n"
     ]
    },
    {
     "name": "stderr",
     "output_type": "stream",
     "text": [
      "  4%|▍         | 82/2000 [00:05<02:15, 14.19it/s]"
     ]
    },
    {
     "name": "stdout",
     "output_type": "stream",
     "text": [
      "Epoch 80: train cost = 0.10693752037957885\n"
     ]
    },
    {
     "name": "stderr",
     "output_type": "stream",
     "text": [
      "  5%|▍         | 92/2000 [00:06<02:22, 13.35it/s]"
     ]
    },
    {
     "name": "stdout",
     "output_type": "stream",
     "text": [
      "Epoch 90: train cost = 0.1051017246314218\n"
     ]
    },
    {
     "name": "stderr",
     "output_type": "stream",
     "text": [
      "  5%|▌         | 102/2000 [00:07<02:17, 13.79it/s]"
     ]
    },
    {
     "name": "stdout",
     "output_type": "stream",
     "text": [
      "Epoch 100: train cost = 0.10445215310115936\n"
     ]
    },
    {
     "name": "stderr",
     "output_type": "stream",
     "text": [
      "  6%|▌         | 112/2000 [00:08<02:24, 13.03it/s]"
     ]
    },
    {
     "name": "stdout",
     "output_type": "stream",
     "text": [
      "Epoch 110: train cost = 0.10356378244899879\n"
     ]
    },
    {
     "name": "stderr",
     "output_type": "stream",
     "text": [
      "  6%|▌         | 122/2000 [00:08<02:17, 13.70it/s]"
     ]
    },
    {
     "name": "stdout",
     "output_type": "stream",
     "text": [
      "Epoch 120: train cost = 0.10315072963338047\n"
     ]
    },
    {
     "name": "stderr",
     "output_type": "stream",
     "text": [
      "  7%|▋         | 132/2000 [00:09<02:11, 14.20it/s]"
     ]
    },
    {
     "name": "stdout",
     "output_type": "stream",
     "text": [
      "Epoch 130: train cost = 0.10236854154355543\n"
     ]
    },
    {
     "name": "stderr",
     "output_type": "stream",
     "text": [
      "  7%|▋         | 142/2000 [00:10<02:13, 13.93it/s]"
     ]
    },
    {
     "name": "stdout",
     "output_type": "stream",
     "text": [
      "Epoch 140: train cost = 0.10167637159412544\n"
     ]
    },
    {
     "name": "stderr",
     "output_type": "stream",
     "text": [
      "  8%|▊         | 152/2000 [00:10<02:19, 13.27it/s]"
     ]
    },
    {
     "name": "stdout",
     "output_type": "stream",
     "text": [
      "Epoch 150: train cost = 0.10136252846494345\n"
     ]
    },
    {
     "name": "stderr",
     "output_type": "stream",
     "text": [
      "  8%|▊         | 162/2000 [00:11<02:23, 12.76it/s]"
     ]
    },
    {
     "name": "stdout",
     "output_type": "stream",
     "text": [
      "Epoch 160: train cost = 0.10082767567345093\n"
     ]
    },
    {
     "name": "stderr",
     "output_type": "stream",
     "text": [
      "  9%|▊         | 172/2000 [00:12<02:19, 13.07it/s]"
     ]
    },
    {
     "name": "stdout",
     "output_type": "stream",
     "text": [
      "Epoch 170: train cost = 0.1001112807247363\n"
     ]
    },
    {
     "name": "stderr",
     "output_type": "stream",
     "text": [
      "  9%|▉         | 182/2000 [00:13<02:14, 13.55it/s]"
     ]
    },
    {
     "name": "stdout",
     "output_type": "stream",
     "text": [
      "Epoch 180: train cost = 0.10031975770077797\n"
     ]
    },
    {
     "name": "stderr",
     "output_type": "stream",
     "text": [
      " 10%|▉         | 192/2000 [00:13<02:11, 13.70it/s]"
     ]
    },
    {
     "name": "stdout",
     "output_type": "stream",
     "text": [
      "Epoch 190: train cost = 0.09934900739471102\n"
     ]
    },
    {
     "name": "stderr",
     "output_type": "stream",
     "text": [
      " 10%|█         | 202/2000 [00:14<02:10, 13.77it/s]"
     ]
    },
    {
     "name": "stdout",
     "output_type": "stream",
     "text": [
      "Epoch 200: train cost = 0.09890357956452939\n"
     ]
    },
    {
     "name": "stderr",
     "output_type": "stream",
     "text": [
      " 11%|█         | 212/2000 [00:15<02:20, 12.72it/s]"
     ]
    },
    {
     "name": "stdout",
     "output_type": "stream",
     "text": [
      "Epoch 210: train cost = 0.09865691636520005\n"
     ]
    },
    {
     "name": "stderr",
     "output_type": "stream",
     "text": [
      " 11%|█         | 222/2000 [00:16<02:11, 13.49it/s]"
     ]
    },
    {
     "name": "stdout",
     "output_type": "stream",
     "text": [
      "Epoch 220: train cost = 0.0982836479411554\n"
     ]
    },
    {
     "name": "stderr",
     "output_type": "stream",
     "text": [
      " 12%|█▏        | 232/2000 [00:17<02:12, 13.34it/s]"
     ]
    },
    {
     "name": "stdout",
     "output_type": "stream",
     "text": [
      "Epoch 230: train cost = 0.098105409301652\n"
     ]
    },
    {
     "name": "stderr",
     "output_type": "stream",
     "text": [
      " 12%|█▏        | 242/2000 [00:17<02:12, 13.22it/s]"
     ]
    },
    {
     "name": "stdout",
     "output_type": "stream",
     "text": [
      "Epoch 240: train cost = 0.09825336257701903\n"
     ]
    },
    {
     "name": "stderr",
     "output_type": "stream",
     "text": [
      " 13%|█▎        | 252/2000 [00:18<02:15, 12.88it/s]"
     ]
    },
    {
     "name": "stdout",
     "output_type": "stream",
     "text": [
      "Epoch 250: train cost = 0.09738858098622695\n"
     ]
    },
    {
     "name": "stderr",
     "output_type": "stream",
     "text": [
      " 13%|█▎        | 262/2000 [00:19<02:05, 13.88it/s]"
     ]
    },
    {
     "name": "stdout",
     "output_type": "stream",
     "text": [
      "Epoch 260: train cost = 0.09699977709542047\n"
     ]
    },
    {
     "name": "stderr",
     "output_type": "stream",
     "text": [
      " 14%|█▎        | 272/2000 [00:20<02:09, 13.36it/s]"
     ]
    },
    {
     "name": "stdout",
     "output_type": "stream",
     "text": [
      "Epoch 270: train cost = 0.09722267553848081\n"
     ]
    },
    {
     "name": "stderr",
     "output_type": "stream",
     "text": [
      " 14%|█▍        | 282/2000 [00:20<02:09, 13.29it/s]"
     ]
    },
    {
     "name": "stdout",
     "output_type": "stream",
     "text": [
      "Epoch 280: train cost = 0.09630884462835275\n"
     ]
    },
    {
     "name": "stderr",
     "output_type": "stream",
     "text": [
      " 15%|█▍        | 292/2000 [00:21<02:08, 13.24it/s]"
     ]
    },
    {
     "name": "stdout",
     "output_type": "stream",
     "text": [
      "Epoch 290: train cost = 0.09648102414007907\n"
     ]
    },
    {
     "name": "stderr",
     "output_type": "stream",
     "text": [
      " 15%|█▌        | 300/2000 [00:22<02:34, 11.01it/s]"
     ]
    },
    {
     "name": "stdout",
     "output_type": "stream",
     "text": [
      "Epoch 300: train cost = 0.09601612959571859\n"
     ]
    },
    {
     "name": "stderr",
     "output_type": "stream",
     "text": [
      " 16%|█▌        | 312/2000 [00:23<02:44, 10.26it/s]"
     ]
    },
    {
     "name": "stdout",
     "output_type": "stream",
     "text": [
      "Epoch 310: train cost = 0.09639935382777534\n"
     ]
    },
    {
     "name": "stderr",
     "output_type": "stream",
     "text": [
      " 16%|█▌        | 322/2000 [00:24<02:40, 10.43it/s]"
     ]
    },
    {
     "name": "stdout",
     "output_type": "stream",
     "text": [
      "Epoch 320: train cost = 0.09580884106161747\n"
     ]
    },
    {
     "name": "stderr",
     "output_type": "stream",
     "text": [
      " 17%|█▋        | 332/2000 [00:25<02:34, 10.80it/s]"
     ]
    },
    {
     "name": "stdout",
     "output_type": "stream",
     "text": [
      "Epoch 330: train cost = 0.09583444373181453\n"
     ]
    },
    {
     "name": "stderr",
     "output_type": "stream",
     "text": [
      " 17%|█▋        | 342/2000 [00:26<02:33, 10.78it/s]"
     ]
    },
    {
     "name": "stdout",
     "output_type": "stream",
     "text": [
      "Epoch 340: train cost = 0.09579160623810482\n"
     ]
    },
    {
     "name": "stderr",
     "output_type": "stream",
     "text": [
      " 18%|█▊        | 352/2000 [00:27<02:33, 10.72it/s]"
     ]
    },
    {
     "name": "stdout",
     "output_type": "stream",
     "text": [
      "Epoch 350: train cost = 0.09544875220678642\n"
     ]
    },
    {
     "name": "stderr",
     "output_type": "stream",
     "text": [
      " 18%|█▊        | 362/2000 [00:28<02:38, 10.31it/s]"
     ]
    },
    {
     "name": "stdout",
     "output_type": "stream",
     "text": [
      "Epoch 360: train cost = 0.09582080727241843\n"
     ]
    },
    {
     "name": "stderr",
     "output_type": "stream",
     "text": [
      " 19%|█▊        | 372/2000 [00:29<02:31, 10.71it/s]"
     ]
    },
    {
     "name": "stdout",
     "output_type": "stream",
     "text": [
      "Epoch 370: train cost = 0.0947621308776984\n"
     ]
    },
    {
     "name": "stderr",
     "output_type": "stream",
     "text": [
      " 19%|█▉        | 382/2000 [00:30<02:26, 11.05it/s]"
     ]
    },
    {
     "name": "stdout",
     "output_type": "stream",
     "text": [
      "Epoch 380: train cost = 0.0944590949222629\n"
     ]
    },
    {
     "name": "stderr",
     "output_type": "stream",
     "text": [
      " 20%|█▉        | 392/2000 [00:31<02:26, 11.01it/s]"
     ]
    },
    {
     "name": "stdout",
     "output_type": "stream",
     "text": [
      "Epoch 390: train cost = 0.09471426155547444\n"
     ]
    },
    {
     "name": "stderr",
     "output_type": "stream",
     "text": [
      " 20%|██        | 402/2000 [00:31<02:22, 11.23it/s]"
     ]
    },
    {
     "name": "stdout",
     "output_type": "stream",
     "text": [
      "Epoch 400: train cost = 0.09425714447984271\n"
     ]
    },
    {
     "name": "stderr",
     "output_type": "stream",
     "text": [
      " 21%|██        | 412/2000 [00:32<02:26, 10.87it/s]"
     ]
    },
    {
     "name": "stdout",
     "output_type": "stream",
     "text": [
      "Epoch 410: train cost = 0.09452493815045876\n"
     ]
    },
    {
     "name": "stderr",
     "output_type": "stream",
     "text": [
      " 21%|██        | 422/2000 [00:33<02:21, 11.13it/s]"
     ]
    },
    {
     "name": "stdout",
     "output_type": "stream",
     "text": [
      "Epoch 420: train cost = 0.09385824049830721\n"
     ]
    },
    {
     "name": "stderr",
     "output_type": "stream",
     "text": [
      " 22%|██▏       | 432/2000 [00:34<02:21, 11.04it/s]"
     ]
    },
    {
     "name": "stdout",
     "output_type": "stream",
     "text": [
      "Epoch 430: train cost = 0.09362389382826784\n"
     ]
    },
    {
     "name": "stderr",
     "output_type": "stream",
     "text": [
      " 22%|██▏       | 442/2000 [00:35<02:22, 10.96it/s]"
     ]
    },
    {
     "name": "stdout",
     "output_type": "stream",
     "text": [
      "Epoch 440: train cost = 0.09387196779889913\n"
     ]
    },
    {
     "name": "stderr",
     "output_type": "stream",
     "text": [
      " 23%|██▎       | 452/2000 [00:36<02:19, 11.07it/s]"
     ]
    },
    {
     "name": "stdout",
     "output_type": "stream",
     "text": [
      "Epoch 450: train cost = 0.09346401332141417\n"
     ]
    },
    {
     "name": "stderr",
     "output_type": "stream",
     "text": [
      " 23%|██▎       | 462/2000 [00:37<02:19, 10.99it/s]"
     ]
    },
    {
     "name": "stdout",
     "output_type": "stream",
     "text": [
      "Epoch 460: train cost = 0.09347304750344013\n"
     ]
    },
    {
     "name": "stderr",
     "output_type": "stream",
     "text": [
      " 24%|██▎       | 472/2000 [00:38<02:16, 11.15it/s]"
     ]
    },
    {
     "name": "stdout",
     "output_type": "stream",
     "text": [
      "Epoch 470: train cost = 0.09326570456695917\n"
     ]
    },
    {
     "name": "stderr",
     "output_type": "stream",
     "text": [
      " 24%|██▍       | 482/2000 [00:39<02:18, 10.97it/s]"
     ]
    },
    {
     "name": "stdout",
     "output_type": "stream",
     "text": [
      "Epoch 480: train cost = 0.09265565188197947\n"
     ]
    },
    {
     "name": "stderr",
     "output_type": "stream",
     "text": [
      " 25%|██▍       | 492/2000 [00:40<02:16, 11.05it/s]"
     ]
    },
    {
     "name": "stdout",
     "output_type": "stream",
     "text": [
      "Epoch 490: train cost = 0.09331776576578231\n"
     ]
    },
    {
     "name": "stderr",
     "output_type": "stream",
     "text": [
      " 25%|██▌       | 502/2000 [00:41<02:17, 10.89it/s]"
     ]
    },
    {
     "name": "stdout",
     "output_type": "stream",
     "text": [
      "Epoch 500: train cost = 0.09276385564026937\n"
     ]
    },
    {
     "name": "stderr",
     "output_type": "stream",
     "text": [
      " 26%|██▌       | 512/2000 [00:41<02:13, 11.13it/s]"
     ]
    },
    {
     "name": "stdout",
     "output_type": "stream",
     "text": [
      "Epoch 510: train cost = 0.09227524291021708\n"
     ]
    },
    {
     "name": "stderr",
     "output_type": "stream",
     "text": [
      " 26%|██▌       | 522/2000 [00:42<02:14, 10.97it/s]"
     ]
    },
    {
     "name": "stdout",
     "output_type": "stream",
     "text": [
      "Epoch 520: train cost = 0.09198381817917986\n"
     ]
    },
    {
     "name": "stderr",
     "output_type": "stream",
     "text": [
      " 27%|██▋       | 532/2000 [00:43<02:13, 11.01it/s]"
     ]
    },
    {
     "name": "stdout",
     "output_type": "stream",
     "text": [
      "Epoch 530: train cost = 0.09158169067141095\n"
     ]
    },
    {
     "name": "stderr",
     "output_type": "stream",
     "text": [
      " 27%|██▋       | 540/2000 [00:44<02:12, 11.01it/s]"
     ]
    },
    {
     "name": "stdout",
     "output_type": "stream",
     "text": [
      "Epoch 540: train cost = 0.0917542308851385\n"
     ]
    },
    {
     "name": "stderr",
     "output_type": "stream",
     "text": [
      " 28%|██▊       | 552/2000 [00:45<02:09, 11.18it/s]"
     ]
    },
    {
     "name": "stdout",
     "output_type": "stream",
     "text": [
      "Epoch 550: train cost = 0.09128120620904234\n"
     ]
    },
    {
     "name": "stderr",
     "output_type": "stream",
     "text": [
      " 28%|██▊       | 562/2000 [00:46<02:11, 10.94it/s]"
     ]
    },
    {
     "name": "stdout",
     "output_type": "stream",
     "text": [
      "Epoch 560: train cost = 0.091086589363444\n"
     ]
    },
    {
     "name": "stderr",
     "output_type": "stream",
     "text": [
      " 29%|██▊       | 572/2000 [00:47<02:10, 10.97it/s]"
     ]
    },
    {
     "name": "stdout",
     "output_type": "stream",
     "text": [
      "Epoch 570: train cost = 0.09074939854052046\n"
     ]
    },
    {
     "name": "stderr",
     "output_type": "stream",
     "text": [
      " 29%|██▉       | 582/2000 [00:48<02:09, 10.95it/s]"
     ]
    },
    {
     "name": "stdout",
     "output_type": "stream",
     "text": [
      "Epoch 580: train cost = 0.09078927389281052\n"
     ]
    },
    {
     "name": "stderr",
     "output_type": "stream",
     "text": [
      " 30%|██▉       | 592/2000 [00:49<02:05, 11.19it/s]"
     ]
    },
    {
     "name": "stdout",
     "output_type": "stream",
     "text": [
      "Epoch 590: train cost = 0.09020186939651773\n"
     ]
    },
    {
     "name": "stderr",
     "output_type": "stream",
     "text": [
      " 30%|███       | 602/2000 [00:50<02:07, 10.97it/s]"
     ]
    },
    {
     "name": "stdout",
     "output_type": "stream",
     "text": [
      "Epoch 600: train cost = 0.09048699327508572\n"
     ]
    },
    {
     "name": "stderr",
     "output_type": "stream",
     "text": [
      " 30%|███       | 610/2000 [00:50<02:08, 10.81it/s]"
     ]
    },
    {
     "name": "stdout",
     "output_type": "stream",
     "text": [
      "Epoch 610: train cost = 0.09012732748290726\n"
     ]
    },
    {
     "name": "stderr",
     "output_type": "stream",
     "text": [
      " 31%|███       | 622/2000 [00:51<02:04, 11.06it/s]"
     ]
    },
    {
     "name": "stdout",
     "output_type": "stream",
     "text": [
      "Epoch 620: train cost = 0.08974765511547712\n"
     ]
    },
    {
     "name": "stderr",
     "output_type": "stream",
     "text": [
      " 32%|███▏      | 632/2000 [00:52<02:04, 10.98it/s]"
     ]
    },
    {
     "name": "stdout",
     "output_type": "stream",
     "text": [
      "Epoch 630: train cost = 0.0899668092546604\n"
     ]
    },
    {
     "name": "stderr",
     "output_type": "stream",
     "text": [
      " 32%|███▏      | 642/2000 [00:53<02:04, 10.91it/s]"
     ]
    },
    {
     "name": "stdout",
     "output_type": "stream",
     "text": [
      "Epoch 640: train cost = 0.08971245194202208\n"
     ]
    },
    {
     "name": "stderr",
     "output_type": "stream",
     "text": [
      " 33%|███▎      | 652/2000 [00:54<01:59, 11.23it/s]"
     ]
    },
    {
     "name": "stdout",
     "output_type": "stream",
     "text": [
      "Epoch 650: train cost = 0.08972947356422813\n"
     ]
    },
    {
     "name": "stderr",
     "output_type": "stream",
     "text": [
      " 33%|███▎      | 662/2000 [00:55<02:00, 11.09it/s]"
     ]
    },
    {
     "name": "stdout",
     "output_type": "stream",
     "text": [
      "Epoch 660: train cost = 0.08906625890523569\n"
     ]
    },
    {
     "name": "stderr",
     "output_type": "stream",
     "text": [
      " 34%|███▎      | 672/2000 [00:56<02:01, 10.97it/s]"
     ]
    },
    {
     "name": "stdout",
     "output_type": "stream",
     "text": [
      "Epoch 670: train cost = 0.08936532792439413\n"
     ]
    },
    {
     "name": "stderr",
     "output_type": "stream",
     "text": [
      " 34%|███▍      | 682/2000 [00:57<02:09, 10.14it/s]"
     ]
    },
    {
     "name": "stdout",
     "output_type": "stream",
     "text": [
      "Epoch 680: train cost = 0.0891275461860574\n"
     ]
    },
    {
     "name": "stderr",
     "output_type": "stream",
     "text": [
      " 35%|███▍      | 692/2000 [00:58<02:03, 10.63it/s]"
     ]
    },
    {
     "name": "stdout",
     "output_type": "stream",
     "text": [
      "Epoch 690: train cost = 0.08871613476741998\n"
     ]
    },
    {
     "name": "stderr",
     "output_type": "stream",
     "text": [
      " 35%|███▌      | 702/2000 [00:59<01:57, 11.09it/s]"
     ]
    },
    {
     "name": "stdout",
     "output_type": "stream",
     "text": [
      "Epoch 700: train cost = 0.08887585985382414\n"
     ]
    },
    {
     "name": "stderr",
     "output_type": "stream",
     "text": [
      " 36%|███▌      | 712/2000 [01:00<01:58, 10.87it/s]"
     ]
    },
    {
     "name": "stdout",
     "output_type": "stream",
     "text": [
      "Epoch 710: train cost = 0.08916545658161806\n"
     ]
    },
    {
     "name": "stderr",
     "output_type": "stream",
     "text": [
      " 36%|███▌      | 722/2000 [01:01<01:56, 10.95it/s]"
     ]
    },
    {
     "name": "stdout",
     "output_type": "stream",
     "text": [
      "Epoch 720: train cost = 0.08892202562397415\n"
     ]
    },
    {
     "name": "stderr",
     "output_type": "stream",
     "text": [
      " 37%|███▋      | 732/2000 [01:02<01:57, 10.78it/s]"
     ]
    },
    {
     "name": "stdout",
     "output_type": "stream",
     "text": [
      "Epoch 730: train cost = 0.08908080431728117\n"
     ]
    },
    {
     "name": "stderr",
     "output_type": "stream",
     "text": [
      " 37%|███▋      | 742/2000 [01:02<01:53, 11.10it/s]"
     ]
    },
    {
     "name": "stdout",
     "output_type": "stream",
     "text": [
      "Epoch 740: train cost = 0.08888586398831594\n"
     ]
    },
    {
     "name": "stderr",
     "output_type": "stream",
     "text": [
      " 38%|███▊      | 752/2000 [01:03<01:53, 10.97it/s]"
     ]
    },
    {
     "name": "stdout",
     "output_type": "stream",
     "text": [
      "Epoch 750: train cost = 0.08814333435555952\n"
     ]
    },
    {
     "name": "stderr",
     "output_type": "stream",
     "text": [
      " 38%|███▊      | 762/2000 [01:04<01:50, 11.20it/s]"
     ]
    },
    {
     "name": "stdout",
     "output_type": "stream",
     "text": [
      "Epoch 760: train cost = 0.08824494646879187\n"
     ]
    },
    {
     "name": "stderr",
     "output_type": "stream",
     "text": [
      " 39%|███▊      | 772/2000 [01:05<01:50, 11.07it/s]"
     ]
    },
    {
     "name": "stdout",
     "output_type": "stream",
     "text": [
      "Epoch 770: train cost = 0.08795314899656514\n"
     ]
    },
    {
     "name": "stderr",
     "output_type": "stream",
     "text": [
      " 39%|███▉      | 782/2000 [01:06<01:49, 11.16it/s]"
     ]
    },
    {
     "name": "stdout",
     "output_type": "stream",
     "text": [
      "Epoch 780: train cost = 0.08749094683231522\n"
     ]
    },
    {
     "name": "stderr",
     "output_type": "stream",
     "text": [
      " 40%|███▉      | 792/2000 [01:07<01:49, 11.06it/s]"
     ]
    },
    {
     "name": "stdout",
     "output_type": "stream",
     "text": [
      "Epoch 790: train cost = 0.08787406144417359\n"
     ]
    },
    {
     "name": "stderr",
     "output_type": "stream",
     "text": [
      " 40%|████      | 802/2000 [01:08<01:49, 10.95it/s]"
     ]
    },
    {
     "name": "stdout",
     "output_type": "stream",
     "text": [
      "Epoch 800: train cost = 0.08800699408002194\n"
     ]
    },
    {
     "name": "stderr",
     "output_type": "stream",
     "text": [
      " 41%|████      | 812/2000 [01:09<01:45, 11.23it/s]"
     ]
    },
    {
     "name": "stdout",
     "output_type": "stream",
     "text": [
      "Epoch 810: train cost = 0.08802201065490951\n"
     ]
    },
    {
     "name": "stderr",
     "output_type": "stream",
     "text": [
      " 41%|████      | 822/2000 [01:10<01:46, 11.03it/s]"
     ]
    },
    {
     "name": "stdout",
     "output_type": "stream",
     "text": [
      "Epoch 820: train cost = 0.08750824864443756\n"
     ]
    },
    {
     "name": "stderr",
     "output_type": "stream",
     "text": [
      " 42%|████▏     | 832/2000 [01:11<01:45, 11.03it/s]"
     ]
    },
    {
     "name": "stdout",
     "output_type": "stream",
     "text": [
      "Epoch 830: train cost = 0.08825535832448077\n"
     ]
    },
    {
     "name": "stderr",
     "output_type": "stream",
     "text": [
      " 42%|████▏     | 842/2000 [01:12<01:46, 10.84it/s]"
     ]
    },
    {
     "name": "stdout",
     "output_type": "stream",
     "text": [
      "Epoch 840: train cost = 0.08795092124918363\n"
     ]
    },
    {
     "name": "stderr",
     "output_type": "stream",
     "text": [
      " 43%|████▎     | 852/2000 [01:12<01:43, 11.08it/s]"
     ]
    },
    {
     "name": "stdout",
     "output_type": "stream",
     "text": [
      "Epoch 850: train cost = 0.08748523420151617\n"
     ]
    },
    {
     "name": "stderr",
     "output_type": "stream",
     "text": [
      " 43%|████▎     | 862/2000 [01:13<01:41, 11.18it/s]"
     ]
    },
    {
     "name": "stdout",
     "output_type": "stream",
     "text": [
      "Epoch 860: train cost = 0.08756478438193523\n"
     ]
    },
    {
     "name": "stderr",
     "output_type": "stream",
     "text": [
      " 44%|████▎     | 872/2000 [01:14<01:42, 10.97it/s]"
     ]
    },
    {
     "name": "stdout",
     "output_type": "stream",
     "text": [
      "Epoch 870: train cost = 0.08756943133706604\n"
     ]
    },
    {
     "name": "stderr",
     "output_type": "stream",
     "text": [
      " 44%|████▍     | 882/2000 [01:15<01:41, 11.02it/s]"
     ]
    },
    {
     "name": "stdout",
     "output_type": "stream",
     "text": [
      "Epoch 880: train cost = 0.0872554632095341\n"
     ]
    },
    {
     "name": "stderr",
     "output_type": "stream",
     "text": [
      " 45%|████▍     | 892/2000 [01:16<01:40, 10.98it/s]"
     ]
    },
    {
     "name": "stdout",
     "output_type": "stream",
     "text": [
      "Epoch 890: train cost = 0.08757117213722201\n"
     ]
    },
    {
     "name": "stderr",
     "output_type": "stream",
     "text": [
      " 45%|████▌     | 902/2000 [01:17<01:38, 11.14it/s]"
     ]
    },
    {
     "name": "stdout",
     "output_type": "stream",
     "text": [
      "Epoch 900: train cost = 0.08767693631230417\n"
     ]
    },
    {
     "name": "stderr",
     "output_type": "stream",
     "text": [
      " 46%|████▌     | 912/2000 [01:18<01:37, 11.12it/s]"
     ]
    },
    {
     "name": "stdout",
     "output_type": "stream",
     "text": [
      "Epoch 910: train cost = 0.08693548577725063\n"
     ]
    },
    {
     "name": "stderr",
     "output_type": "stream",
     "text": [
      " 46%|████▌     | 922/2000 [01:19<01:36, 11.18it/s]"
     ]
    },
    {
     "name": "stdout",
     "output_type": "stream",
     "text": [
      "Epoch 920: train cost = 0.08742546324137279\n"
     ]
    },
    {
     "name": "stderr",
     "output_type": "stream",
     "text": [
      " 47%|████▋     | 932/2000 [01:20<01:37, 10.98it/s]"
     ]
    },
    {
     "name": "stdout",
     "output_type": "stream",
     "text": [
      "Epoch 930: train cost = 0.08699070308187944\n"
     ]
    },
    {
     "name": "stderr",
     "output_type": "stream",
     "text": [
      " 47%|████▋     | 942/2000 [01:21<01:34, 11.15it/s]"
     ]
    },
    {
     "name": "stdout",
     "output_type": "stream",
     "text": [
      "Epoch 940: train cost = 0.08676705338333952\n"
     ]
    },
    {
     "name": "stderr",
     "output_type": "stream",
     "text": [
      " 48%|████▊     | 952/2000 [01:22<01:34, 11.10it/s]"
     ]
    },
    {
     "name": "stdout",
     "output_type": "stream",
     "text": [
      "Epoch 950: train cost = 0.08729160132992263\n"
     ]
    },
    {
     "name": "stderr",
     "output_type": "stream",
     "text": [
      " 48%|████▊     | 962/2000 [01:22<01:34, 11.01it/s]"
     ]
    },
    {
     "name": "stdout",
     "output_type": "stream",
     "text": [
      "Epoch 960: train cost = 0.08709118550525338\n"
     ]
    },
    {
     "name": "stderr",
     "output_type": "stream",
     "text": [
      " 49%|████▊     | 972/2000 [01:23<01:33, 11.00it/s]"
     ]
    },
    {
     "name": "stdout",
     "output_type": "stream",
     "text": [
      "Epoch 970: train cost = 0.08650071782327128\n"
     ]
    },
    {
     "name": "stderr",
     "output_type": "stream",
     "text": [
      " 49%|████▉     | 982/2000 [01:24<01:32, 11.02it/s]"
     ]
    },
    {
     "name": "stdout",
     "output_type": "stream",
     "text": [
      "Epoch 980: train cost = 0.08683678854907924\n"
     ]
    },
    {
     "name": "stderr",
     "output_type": "stream",
     "text": [
      " 50%|████▉     | 992/2000 [01:25<01:31, 10.99it/s]"
     ]
    },
    {
     "name": "stdout",
     "output_type": "stream",
     "text": [
      "Epoch 990: train cost = 0.08651049704011975\n"
     ]
    },
    {
     "name": "stderr",
     "output_type": "stream",
     "text": [
      " 50%|█████     | 1002/2000 [01:26<01:31, 10.94it/s]"
     ]
    },
    {
     "name": "stdout",
     "output_type": "stream",
     "text": [
      "Epoch 1000: train cost = 0.08636752581935554\n"
     ]
    },
    {
     "name": "stderr",
     "output_type": "stream",
     "text": [
      " 51%|█████     | 1012/2000 [01:27<01:31, 10.76it/s]"
     ]
    },
    {
     "name": "stdout",
     "output_type": "stream",
     "text": [
      "Epoch 1010: train cost = 0.08716854353498567\n"
     ]
    },
    {
     "name": "stderr",
     "output_type": "stream",
     "text": [
      " 51%|█████     | 1022/2000 [01:28<01:27, 11.16it/s]"
     ]
    },
    {
     "name": "stdout",
     "output_type": "stream",
     "text": [
      "Epoch 1020: train cost = 0.08662807409048623\n"
     ]
    },
    {
     "name": "stderr",
     "output_type": "stream",
     "text": [
      " 52%|█████▏    | 1032/2000 [01:29<01:27, 11.03it/s]"
     ]
    },
    {
     "name": "stdout",
     "output_type": "stream",
     "text": [
      "Epoch 1030: train cost = 0.08649650361860316\n"
     ]
    },
    {
     "name": "stderr",
     "output_type": "stream",
     "text": [
      " 52%|█████▏    | 1042/2000 [01:30<01:25, 11.15it/s]"
     ]
    },
    {
     "name": "stdout",
     "output_type": "stream",
     "text": [
      "Epoch 1040: train cost = 0.08623791166871972\n"
     ]
    },
    {
     "name": "stderr",
     "output_type": "stream",
     "text": [
      " 53%|█████▎    | 1052/2000 [01:31<01:26, 11.02it/s]"
     ]
    },
    {
     "name": "stdout",
     "output_type": "stream",
     "text": [
      "Epoch 1050: train cost = 0.08634698253140254\n"
     ]
    },
    {
     "name": "stderr",
     "output_type": "stream",
     "text": [
      " 53%|█████▎    | 1062/2000 [01:32<01:24, 11.12it/s]"
     ]
    },
    {
     "name": "stdout",
     "output_type": "stream",
     "text": [
      "Epoch 1060: train cost = 0.0863198536861448\n"
     ]
    },
    {
     "name": "stderr",
     "output_type": "stream",
     "text": [
      " 54%|█████▎    | 1072/2000 [01:32<01:22, 11.20it/s]"
     ]
    },
    {
     "name": "stdout",
     "output_type": "stream",
     "text": [
      "Epoch 1070: train cost = 0.08651709977109541\n"
     ]
    },
    {
     "name": "stderr",
     "output_type": "stream",
     "text": [
      " 54%|█████▍    | 1082/2000 [01:33<01:22, 11.08it/s]"
     ]
    },
    {
     "name": "stdout",
     "output_type": "stream",
     "text": [
      "Epoch 1080: train cost = 0.08618066082975358\n"
     ]
    },
    {
     "name": "stderr",
     "output_type": "stream",
     "text": [
      " 55%|█████▍    | 1092/2000 [01:34<01:20, 11.31it/s]"
     ]
    },
    {
     "name": "stdout",
     "output_type": "stream",
     "text": [
      "Epoch 1090: train cost = 0.08572681208430073\n"
     ]
    },
    {
     "name": "stderr",
     "output_type": "stream",
     "text": [
      " 55%|█████▌    | 1102/2000 [01:35<01:22, 10.87it/s]"
     ]
    },
    {
     "name": "stdout",
     "output_type": "stream",
     "text": [
      "Epoch 1100: train cost = 0.08615328092102238\n"
     ]
    },
    {
     "name": "stderr",
     "output_type": "stream",
     "text": [
      " 56%|█████▌    | 1112/2000 [01:36<01:20, 11.00it/s]"
     ]
    },
    {
     "name": "stdout",
     "output_type": "stream",
     "text": [
      "Epoch 1110: train cost = 0.0864630936541421\n"
     ]
    },
    {
     "name": "stderr",
     "output_type": "stream",
     "text": [
      " 56%|█████▌    | 1122/2000 [01:37<01:20, 10.95it/s]"
     ]
    },
    {
     "name": "stdout",
     "output_type": "stream",
     "text": [
      "Epoch 1120: train cost = 0.0865308026986855\n"
     ]
    },
    {
     "name": "stderr",
     "output_type": "stream",
     "text": [
      " 57%|█████▋    | 1132/2000 [01:38<01:19, 10.95it/s]"
     ]
    },
    {
     "name": "stdout",
     "output_type": "stream",
     "text": [
      "Epoch 1130: train cost = 0.0860411736104508\n"
     ]
    },
    {
     "name": "stderr",
     "output_type": "stream",
     "text": [
      " 57%|█████▋    | 1142/2000 [01:39<01:16, 11.26it/s]"
     ]
    },
    {
     "name": "stdout",
     "output_type": "stream",
     "text": [
      "Epoch 1140: train cost = 0.08626215774659786\n"
     ]
    },
    {
     "name": "stderr",
     "output_type": "stream",
     "text": [
      " 58%|█████▊    | 1152/2000 [01:40<01:17, 11.01it/s]"
     ]
    },
    {
     "name": "stdout",
     "output_type": "stream",
     "text": [
      "Epoch 1150: train cost = 0.0862744655877406\n"
     ]
    },
    {
     "name": "stderr",
     "output_type": "stream",
     "text": [
      " 58%|█████▊    | 1162/2000 [01:41<01:15, 11.11it/s]"
     ]
    },
    {
     "name": "stdout",
     "output_type": "stream",
     "text": [
      "Epoch 1160: train cost = 0.08587232937036228\n"
     ]
    },
    {
     "name": "stderr",
     "output_type": "stream",
     "text": [
      " 59%|█████▊    | 1172/2000 [01:42<01:15, 11.00it/s]"
     ]
    },
    {
     "name": "stdout",
     "output_type": "stream",
     "text": [
      "Epoch 1170: train cost = 0.08593196592308845\n"
     ]
    },
    {
     "name": "stderr",
     "output_type": "stream",
     "text": [
      " 59%|█████▉    | 1182/2000 [01:42<01:14, 10.96it/s]"
     ]
    },
    {
     "name": "stdout",
     "output_type": "stream",
     "text": [
      "Epoch 1180: train cost = 0.08548079876123181\n"
     ]
    },
    {
     "name": "stderr",
     "output_type": "stream",
     "text": [
      " 60%|█████▉    | 1190/2000 [01:43<01:12, 11.12it/s]"
     ]
    },
    {
     "name": "stdout",
     "output_type": "stream",
     "text": [
      "Epoch 1190: train cost = 0.08539843221345789\n"
     ]
    },
    {
     "name": "stderr",
     "output_type": "stream",
     "text": [
      " 60%|██████    | 1201/2000 [01:44<01:17, 10.30it/s]"
     ]
    },
    {
     "name": "stdout",
     "output_type": "stream",
     "text": [
      "Epoch 1200: train cost = 0.08540545780237337\n"
     ]
    },
    {
     "name": "stderr",
     "output_type": "stream",
     "text": [
      " 61%|██████    | 1211/2000 [01:45<01:12, 10.88it/s]"
     ]
    },
    {
     "name": "stdout",
     "output_type": "stream",
     "text": [
      "Epoch 1210: train cost = 0.08549274478313329\n"
     ]
    },
    {
     "name": "stderr",
     "output_type": "stream",
     "text": [
      " 61%|██████    | 1221/2000 [01:46<01:09, 11.16it/s]"
     ]
    },
    {
     "name": "stdout",
     "output_type": "stream",
     "text": [
      "Epoch 1220: train cost = 0.08561355670810789\n"
     ]
    },
    {
     "name": "stderr",
     "output_type": "stream",
     "text": [
      " 62%|██████▏   | 1231/2000 [01:47<01:11, 10.72it/s]"
     ]
    },
    {
     "name": "stdout",
     "output_type": "stream",
     "text": [
      "Epoch 1230: train cost = 0.08487753178688029\n"
     ]
    },
    {
     "name": "stderr",
     "output_type": "stream",
     "text": [
      " 62%|██████▏   | 1241/2000 [01:48<01:14, 10.23it/s]"
     ]
    },
    {
     "name": "stdout",
     "output_type": "stream",
     "text": [
      "Epoch 1240: train cost = 0.08551710824199218\n"
     ]
    },
    {
     "name": "stderr",
     "output_type": "stream",
     "text": [
      " 63%|██████▎   | 1251/2000 [01:49<01:13, 10.24it/s]"
     ]
    },
    {
     "name": "stdout",
     "output_type": "stream",
     "text": [
      "Epoch 1250: train cost = 0.0854948000339057\n"
     ]
    },
    {
     "name": "stderr",
     "output_type": "stream",
     "text": [
      " 63%|██████▎   | 1261/2000 [01:50<01:10, 10.43it/s]"
     ]
    },
    {
     "name": "stdout",
     "output_type": "stream",
     "text": [
      "Epoch 1260: train cost = 0.08515641628808075\n"
     ]
    },
    {
     "name": "stderr",
     "output_type": "stream",
     "text": [
      " 64%|██████▎   | 1271/2000 [01:51<01:08, 10.68it/s]"
     ]
    },
    {
     "name": "stdout",
     "output_type": "stream",
     "text": [
      "Epoch 1270: train cost = 0.08541644417628219\n"
     ]
    },
    {
     "name": "stderr",
     "output_type": "stream",
     "text": [
      " 64%|██████▍   | 1281/2000 [01:52<01:05, 10.98it/s]"
     ]
    },
    {
     "name": "stdout",
     "output_type": "stream",
     "text": [
      "Epoch 1280: train cost = 0.08501099914812797\n"
     ]
    },
    {
     "name": "stderr",
     "output_type": "stream",
     "text": [
      " 65%|██████▍   | 1291/2000 [01:53<01:05, 10.83it/s]"
     ]
    },
    {
     "name": "stdout",
     "output_type": "stream",
     "text": [
      "Epoch 1290: train cost = 0.08481411115143152\n"
     ]
    },
    {
     "name": "stderr",
     "output_type": "stream",
     "text": [
      " 65%|██████▌   | 1301/2000 [01:54<01:04, 10.79it/s]"
     ]
    },
    {
     "name": "stdout",
     "output_type": "stream",
     "text": [
      "Epoch 1300: train cost = 0.08530533291931142\n"
     ]
    },
    {
     "name": "stderr",
     "output_type": "stream",
     "text": [
      " 66%|██████▌   | 1311/2000 [01:55<01:04, 10.71it/s]"
     ]
    },
    {
     "name": "stdout",
     "output_type": "stream",
     "text": [
      "Epoch 1310: train cost = 0.08505002808788793\n"
     ]
    },
    {
     "name": "stderr",
     "output_type": "stream",
     "text": [
      " 66%|██████▌   | 1321/2000 [01:56<01:01, 10.99it/s]"
     ]
    },
    {
     "name": "stdout",
     "output_type": "stream",
     "text": [
      "Epoch 1320: train cost = 0.08522961559727675\n"
     ]
    },
    {
     "name": "stderr",
     "output_type": "stream",
     "text": [
      " 67%|██████▋   | 1331/2000 [01:57<01:02, 10.62it/s]"
     ]
    },
    {
     "name": "stdout",
     "output_type": "stream",
     "text": [
      "Epoch 1330: train cost = 0.08515304859727417\n"
     ]
    },
    {
     "name": "stderr",
     "output_type": "stream",
     "text": [
      " 67%|██████▋   | 1341/2000 [01:58<01:05, 10.10it/s]"
     ]
    },
    {
     "name": "stdout",
     "output_type": "stream",
     "text": [
      "Epoch 1340: train cost = 0.08521311984001187\n"
     ]
    },
    {
     "name": "stderr",
     "output_type": "stream",
     "text": [
      " 68%|██████▊   | 1351/2000 [01:58<01:04, 10.09it/s]"
     ]
    },
    {
     "name": "stdout",
     "output_type": "stream",
     "text": [
      "Epoch 1350: train cost = 0.08526037335813269\n"
     ]
    },
    {
     "name": "stderr",
     "output_type": "stream",
     "text": [
      " 68%|██████▊   | 1361/2000 [01:59<01:02, 10.24it/s]"
     ]
    },
    {
     "name": "stdout",
     "output_type": "stream",
     "text": [
      "Epoch 1360: train cost = 0.08511992948257555\n"
     ]
    },
    {
     "name": "stderr",
     "output_type": "stream",
     "text": [
      " 69%|██████▊   | 1371/2000 [02:00<00:58, 10.78it/s]"
     ]
    },
    {
     "name": "stdout",
     "output_type": "stream",
     "text": [
      "Epoch 1370: train cost = 0.08505639048293577\n"
     ]
    },
    {
     "name": "stderr",
     "output_type": "stream",
     "text": [
      " 69%|██████▉   | 1381/2000 [02:01<00:57, 10.82it/s]"
     ]
    },
    {
     "name": "stdout",
     "output_type": "stream",
     "text": [
      "Epoch 1380: train cost = 0.08514978323143914\n"
     ]
    },
    {
     "name": "stderr",
     "output_type": "stream",
     "text": [
      " 70%|██████▉   | 1391/2000 [02:02<00:56, 10.82it/s]"
     ]
    },
    {
     "name": "stdout",
     "output_type": "stream",
     "text": [
      "Epoch 1390: train cost = 0.08469632114861637\n"
     ]
    },
    {
     "name": "stderr",
     "output_type": "stream",
     "text": [
      " 70%|███████   | 1401/2000 [02:03<00:55, 10.73it/s]"
     ]
    },
    {
     "name": "stdout",
     "output_type": "stream",
     "text": [
      "Epoch 1400: train cost = 0.08509729204961962\n"
     ]
    },
    {
     "name": "stderr",
     "output_type": "stream",
     "text": [
      " 71%|███████   | 1411/2000 [02:04<00:55, 10.67it/s]"
     ]
    },
    {
     "name": "stdout",
     "output_type": "stream",
     "text": [
      "Epoch 1410: train cost = 0.0852241007012129\n"
     ]
    },
    {
     "name": "stderr",
     "output_type": "stream",
     "text": [
      " 71%|███████   | 1421/2000 [02:05<00:54, 10.65it/s]"
     ]
    },
    {
     "name": "stdout",
     "output_type": "stream",
     "text": [
      "Epoch 1420: train cost = 0.08470573424674026\n"
     ]
    },
    {
     "name": "stderr",
     "output_type": "stream",
     "text": [
      " 72%|███████▏  | 1431/2000 [02:06<00:52, 10.83it/s]"
     ]
    },
    {
     "name": "stdout",
     "output_type": "stream",
     "text": [
      "Epoch 1430: train cost = 0.08486678901233737\n"
     ]
    },
    {
     "name": "stderr",
     "output_type": "stream",
     "text": [
      " 72%|███████▏  | 1441/2000 [02:07<00:51, 10.86it/s]"
     ]
    },
    {
     "name": "stdout",
     "output_type": "stream",
     "text": [
      "Epoch 1440: train cost = 0.08514211825656448\n"
     ]
    },
    {
     "name": "stderr",
     "output_type": "stream",
     "text": [
      " 73%|███████▎  | 1451/2000 [02:08<00:50, 10.97it/s]"
     ]
    },
    {
     "name": "stdout",
     "output_type": "stream",
     "text": [
      "Epoch 1450: train cost = 0.0847871564542829\n"
     ]
    },
    {
     "name": "stderr",
     "output_type": "stream",
     "text": [
      " 73%|███████▎  | 1461/2000 [02:09<00:49, 10.86it/s]"
     ]
    },
    {
     "name": "stdout",
     "output_type": "stream",
     "text": [
      "Epoch 1460: train cost = 0.08451760788381993\n"
     ]
    },
    {
     "name": "stderr",
     "output_type": "stream",
     "text": [
      " 74%|███████▎  | 1471/2000 [02:10<00:48, 10.96it/s]"
     ]
    },
    {
     "name": "stdout",
     "output_type": "stream",
     "text": [
      "Epoch 1470: train cost = 0.08427169101102407\n"
     ]
    },
    {
     "name": "stderr",
     "output_type": "stream",
     "text": [
      " 74%|███████▍  | 1481/2000 [02:11<00:47, 10.95it/s]"
     ]
    },
    {
     "name": "stdout",
     "output_type": "stream",
     "text": [
      "Epoch 1480: train cost = 0.08467120887332212\n"
     ]
    },
    {
     "name": "stderr",
     "output_type": "stream",
     "text": [
      " 75%|███████▍  | 1491/2000 [02:11<00:46, 10.92it/s]"
     ]
    },
    {
     "name": "stdout",
     "output_type": "stream",
     "text": [
      "Epoch 1490: train cost = 0.0847980647835838\n"
     ]
    },
    {
     "name": "stderr",
     "output_type": "stream",
     "text": [
      " 75%|███████▌  | 1501/2000 [02:12<00:46, 10.82it/s]"
     ]
    },
    {
     "name": "stdout",
     "output_type": "stream",
     "text": [
      "Epoch 1500: train cost = 0.08471975481858093\n"
     ]
    },
    {
     "name": "stderr",
     "output_type": "stream",
     "text": [
      " 76%|███████▌  | 1511/2000 [02:13<00:45, 10.79it/s]"
     ]
    },
    {
     "name": "stdout",
     "output_type": "stream",
     "text": [
      "Epoch 1510: train cost = 0.08470779135140076\n"
     ]
    },
    {
     "name": "stderr",
     "output_type": "stream",
     "text": [
      " 76%|███████▌  | 1521/2000 [02:14<00:47, 10.01it/s]"
     ]
    },
    {
     "name": "stdout",
     "output_type": "stream",
     "text": [
      "Epoch 1520: train cost = 0.08439516757607043\n"
     ]
    },
    {
     "name": "stderr",
     "output_type": "stream",
     "text": [
      " 77%|███████▋  | 1531/2000 [02:15<00:50,  9.38it/s]"
     ]
    },
    {
     "name": "stdout",
     "output_type": "stream",
     "text": [
      "Epoch 1530: train cost = 0.08421677934239755\n"
     ]
    },
    {
     "name": "stderr",
     "output_type": "stream",
     "text": [
      " 77%|███████▋  | 1541/2000 [02:16<00:44, 10.40it/s]"
     ]
    },
    {
     "name": "stdout",
     "output_type": "stream",
     "text": [
      "Epoch 1540: train cost = 0.08485182862434056\n"
     ]
    },
    {
     "name": "stderr",
     "output_type": "stream",
     "text": [
      " 78%|███████▊  | 1551/2000 [02:17<00:41, 10.74it/s]"
     ]
    },
    {
     "name": "stdout",
     "output_type": "stream",
     "text": [
      "Epoch 1550: train cost = 0.0846717926834478\n"
     ]
    },
    {
     "name": "stderr",
     "output_type": "stream",
     "text": [
      " 78%|███████▊  | 1561/2000 [02:18<00:39, 11.16it/s]"
     ]
    },
    {
     "name": "stdout",
     "output_type": "stream",
     "text": [
      "Epoch 1560: train cost = 0.0848542662346855\n"
     ]
    },
    {
     "name": "stderr",
     "output_type": "stream",
     "text": [
      " 79%|███████▊  | 1571/2000 [02:19<00:39, 10.91it/s]"
     ]
    },
    {
     "name": "stdout",
     "output_type": "stream",
     "text": [
      "Epoch 1570: train cost = 0.08450807898496766\n"
     ]
    },
    {
     "name": "stderr",
     "output_type": "stream",
     "text": [
      " 79%|███████▉  | 1581/2000 [02:20<00:39, 10.74it/s]"
     ]
    },
    {
     "name": "stdout",
     "output_type": "stream",
     "text": [
      "Epoch 1580: train cost = 0.08474323721885448\n"
     ]
    },
    {
     "name": "stderr",
     "output_type": "stream",
     "text": [
      " 80%|███████▉  | 1591/2000 [02:21<00:38, 10.69it/s]"
     ]
    },
    {
     "name": "stdout",
     "output_type": "stream",
     "text": [
      "Epoch 1590: train cost = 0.08452471820848628\n"
     ]
    },
    {
     "name": "stderr",
     "output_type": "stream",
     "text": [
      " 80%|████████  | 1601/2000 [02:22<00:37, 10.77it/s]"
     ]
    },
    {
     "name": "stdout",
     "output_type": "stream",
     "text": [
      "Epoch 1600: train cost = 0.0849353105577799\n"
     ]
    },
    {
     "name": "stderr",
     "output_type": "stream",
     "text": [
      " 81%|████████  | 1611/2000 [02:23<00:35, 11.10it/s]"
     ]
    },
    {
     "name": "stdout",
     "output_type": "stream",
     "text": [
      "Epoch 1610: train cost = 0.08434946600148706\n"
     ]
    },
    {
     "name": "stderr",
     "output_type": "stream",
     "text": [
      " 81%|████████  | 1621/2000 [02:24<00:33, 11.16it/s]"
     ]
    },
    {
     "name": "stdout",
     "output_type": "stream",
     "text": [
      "Epoch 1620: train cost = 0.0844709810998751\n"
     ]
    },
    {
     "name": "stderr",
     "output_type": "stream",
     "text": [
      " 82%|████████▏ | 1631/2000 [02:25<00:34, 10.58it/s]"
     ]
    },
    {
     "name": "stdout",
     "output_type": "stream",
     "text": [
      "Epoch 1630: train cost = 0.08461080687751114\n"
     ]
    },
    {
     "name": "stderr",
     "output_type": "stream",
     "text": [
      " 82%|████████▏ | 1641/2000 [02:26<00:34, 10.37it/s]"
     ]
    },
    {
     "name": "stdout",
     "output_type": "stream",
     "text": [
      "Epoch 1640: train cost = 0.08428436180607606\n"
     ]
    },
    {
     "name": "stderr",
     "output_type": "stream",
     "text": [
      " 83%|████████▎ | 1651/2000 [02:27<00:34, 10.25it/s]"
     ]
    },
    {
     "name": "stdout",
     "output_type": "stream",
     "text": [
      "Epoch 1650: train cost = 0.08410242157670406\n"
     ]
    },
    {
     "name": "stderr",
     "output_type": "stream",
     "text": [
      " 83%|████████▎ | 1661/2000 [02:28<00:32, 10.32it/s]"
     ]
    },
    {
     "name": "stdout",
     "output_type": "stream",
     "text": [
      "Epoch 1660: train cost = 0.08452268206414715\n"
     ]
    },
    {
     "name": "stderr",
     "output_type": "stream",
     "text": [
      " 84%|████████▎ | 1671/2000 [02:29<00:31, 10.28it/s]"
     ]
    },
    {
     "name": "stdout",
     "output_type": "stream",
     "text": [
      "Epoch 1670: train cost = 0.08386567815374728\n"
     ]
    },
    {
     "name": "stderr",
     "output_type": "stream",
     "text": [
      " 84%|████████▍ | 1681/2000 [02:30<00:31, 10.24it/s]"
     ]
    },
    {
     "name": "stdout",
     "output_type": "stream",
     "text": [
      "Epoch 1680: train cost = 0.08464305354852197\n"
     ]
    },
    {
     "name": "stderr",
     "output_type": "stream",
     "text": [
      " 85%|████████▍ | 1691/2000 [02:31<00:29, 10.56it/s]"
     ]
    },
    {
     "name": "stdout",
     "output_type": "stream",
     "text": [
      "Epoch 1690: train cost = 0.08418092580109714\n"
     ]
    },
    {
     "name": "stderr",
     "output_type": "stream",
     "text": [
      " 85%|████████▌ | 1701/2000 [02:31<00:28, 10.33it/s]"
     ]
    },
    {
     "name": "stdout",
     "output_type": "stream",
     "text": [
      "Epoch 1700: train cost = 0.0841531415795767\n"
     ]
    },
    {
     "name": "stderr",
     "output_type": "stream",
     "text": [
      " 86%|████████▌ | 1711/2000 [02:32<00:27, 10.43it/s]"
     ]
    },
    {
     "name": "stdout",
     "output_type": "stream",
     "text": [
      "Epoch 1710: train cost = 0.0844650348409958\n"
     ]
    },
    {
     "name": "stderr",
     "output_type": "stream",
     "text": [
      " 86%|████████▌ | 1721/2000 [02:33<00:25, 11.06it/s]"
     ]
    },
    {
     "name": "stdout",
     "output_type": "stream",
     "text": [
      "Epoch 1720: train cost = 0.08425361549980426\n"
     ]
    },
    {
     "name": "stderr",
     "output_type": "stream",
     "text": [
      " 87%|████████▋ | 1731/2000 [02:34<00:26, 10.25it/s]"
     ]
    },
    {
     "name": "stdout",
     "output_type": "stream",
     "text": [
      "Epoch 1730: train cost = 0.08399017220234216\n"
     ]
    },
    {
     "name": "stderr",
     "output_type": "stream",
     "text": [
      " 87%|████████▋ | 1742/2000 [02:35<00:26,  9.89it/s]"
     ]
    },
    {
     "name": "stdout",
     "output_type": "stream",
     "text": [
      "Epoch 1740: train cost = 0.08403611644395281\n"
     ]
    },
    {
     "name": "stderr",
     "output_type": "stream",
     "text": [
      " 88%|████████▊ | 1752/2000 [02:36<00:23, 10.58it/s]"
     ]
    },
    {
     "name": "stdout",
     "output_type": "stream",
     "text": [
      "Epoch 1750: train cost = 0.08427379265707306\n"
     ]
    },
    {
     "name": "stderr",
     "output_type": "stream",
     "text": [
      " 88%|████████▊ | 1762/2000 [02:37<00:21, 10.83it/s]"
     ]
    },
    {
     "name": "stdout",
     "output_type": "stream",
     "text": [
      "Epoch 1760: train cost = 0.08413794460584657\n"
     ]
    },
    {
     "name": "stderr",
     "output_type": "stream",
     "text": [
      " 88%|████████▊ | 1770/2000 [02:38<00:20, 11.23it/s]"
     ]
    },
    {
     "name": "stdout",
     "output_type": "stream",
     "text": [
      "Epoch 1770: train cost = 0.08430408293169583\n"
     ]
    },
    {
     "name": "stderr",
     "output_type": "stream",
     "text": [
      " 89%|████████▉ | 1782/2000 [02:39<00:19, 11.09it/s]"
     ]
    },
    {
     "name": "stdout",
     "output_type": "stream",
     "text": [
      "Epoch 1780: train cost = 0.08408676590483742\n"
     ]
    },
    {
     "name": "stderr",
     "output_type": "stream",
     "text": [
      " 90%|████████▉ | 1792/2000 [02:40<00:18, 11.01it/s]"
     ]
    },
    {
     "name": "stdout",
     "output_type": "stream",
     "text": [
      "Epoch 1790: train cost = 0.0848277572195799\n"
     ]
    },
    {
     "name": "stderr",
     "output_type": "stream",
     "text": [
      " 90%|█████████ | 1802/2000 [02:41<00:17, 11.03it/s]"
     ]
    },
    {
     "name": "stdout",
     "output_type": "stream",
     "text": [
      "Epoch 1800: train cost = 0.0838540498389993\n"
     ]
    },
    {
     "name": "stderr",
     "output_type": "stream",
     "text": [
      " 91%|█████████ | 1812/2000 [02:42<00:17, 10.79it/s]"
     ]
    },
    {
     "name": "stdout",
     "output_type": "stream",
     "text": [
      "Epoch 1810: train cost = 0.08401182401446992\n"
     ]
    },
    {
     "name": "stderr",
     "output_type": "stream",
     "text": [
      " 91%|█████████ | 1822/2000 [02:43<00:15, 11.22it/s]"
     ]
    },
    {
     "name": "stdout",
     "output_type": "stream",
     "text": [
      "Epoch 1820: train cost = 0.08396702667322486\n"
     ]
    },
    {
     "name": "stderr",
     "output_type": "stream",
     "text": [
      " 92%|█████████▏| 1832/2000 [02:44<00:14, 11.22it/s]"
     ]
    },
    {
     "name": "stdout",
     "output_type": "stream",
     "text": [
      "Epoch 1830: train cost = 0.08405352133567688\n"
     ]
    },
    {
     "name": "stderr",
     "output_type": "stream",
     "text": [
      " 92%|█████████▏| 1842/2000 [02:44<00:14, 11.01it/s]"
     ]
    },
    {
     "name": "stdout",
     "output_type": "stream",
     "text": [
      "Epoch 1840: train cost = 0.08395300866259743\n"
     ]
    },
    {
     "name": "stderr",
     "output_type": "stream",
     "text": [
      " 93%|█████████▎| 1852/2000 [02:45<00:13, 11.03it/s]"
     ]
    },
    {
     "name": "stdout",
     "output_type": "stream",
     "text": [
      "Epoch 1850: train cost = 0.08382487695708392\n"
     ]
    },
    {
     "name": "stderr",
     "output_type": "stream",
     "text": [
      " 93%|█████████▎| 1862/2000 [02:46<00:12, 11.17it/s]"
     ]
    },
    {
     "name": "stdout",
     "output_type": "stream",
     "text": [
      "Epoch 1860: train cost = 0.08381877484534667\n"
     ]
    },
    {
     "name": "stderr",
     "output_type": "stream",
     "text": [
      " 94%|█████████▎| 1872/2000 [02:47<00:11, 11.00it/s]"
     ]
    },
    {
     "name": "stdout",
     "output_type": "stream",
     "text": [
      "Epoch 1870: train cost = 0.08369128521216909\n"
     ]
    },
    {
     "name": "stderr",
     "output_type": "stream",
     "text": [
      " 94%|█████████▍| 1882/2000 [02:48<00:10, 11.24it/s]"
     ]
    },
    {
     "name": "stdout",
     "output_type": "stream",
     "text": [
      "Epoch 1880: train cost = 0.08358358614049105\n"
     ]
    },
    {
     "name": "stderr",
     "output_type": "stream",
     "text": [
      " 95%|█████████▍| 1892/2000 [02:49<00:09, 11.05it/s]"
     ]
    },
    {
     "name": "stdout",
     "output_type": "stream",
     "text": [
      "Epoch 1890: train cost = 0.08367500850767597\n"
     ]
    },
    {
     "name": "stderr",
     "output_type": "stream",
     "text": [
      " 95%|█████████▌| 1902/2000 [02:50<00:08, 10.97it/s]"
     ]
    },
    {
     "name": "stdout",
     "output_type": "stream",
     "text": [
      "Epoch 1900: train cost = 0.08358398332436835\n"
     ]
    },
    {
     "name": "stderr",
     "output_type": "stream",
     "text": [
      " 96%|█████████▌| 1912/2000 [02:51<00:07, 11.19it/s]"
     ]
    },
    {
     "name": "stdout",
     "output_type": "stream",
     "text": [
      "Epoch 1910: train cost = 0.08343653592249077\n"
     ]
    },
    {
     "name": "stderr",
     "output_type": "stream",
     "text": [
      " 96%|█████████▌| 1922/2000 [02:52<00:06, 11.25it/s]"
     ]
    },
    {
     "name": "stdout",
     "output_type": "stream",
     "text": [
      "Epoch 1920: train cost = 0.08379269933468364\n"
     ]
    },
    {
     "name": "stderr",
     "output_type": "stream",
     "text": [
      " 97%|█████████▋| 1932/2000 [02:53<00:06, 11.15it/s]"
     ]
    },
    {
     "name": "stdout",
     "output_type": "stream",
     "text": [
      "Epoch 1930: train cost = 0.08390944313071093\n"
     ]
    },
    {
     "name": "stderr",
     "output_type": "stream",
     "text": [
      " 97%|█████████▋| 1940/2000 [02:53<00:05, 11.01it/s]"
     ]
    },
    {
     "name": "stdout",
     "output_type": "stream",
     "text": [
      "Epoch 1940: train cost = 0.08393376306747458\n"
     ]
    },
    {
     "name": "stderr",
     "output_type": "stream",
     "text": [
      " 98%|█████████▊| 1952/2000 [02:54<00:04, 11.13it/s]"
     ]
    },
    {
     "name": "stdout",
     "output_type": "stream",
     "text": [
      "Epoch 1950: train cost = 0.08368173796857163\n"
     ]
    },
    {
     "name": "stderr",
     "output_type": "stream",
     "text": [
      " 98%|█████████▊| 1962/2000 [02:55<00:03, 11.07it/s]"
     ]
    },
    {
     "name": "stdout",
     "output_type": "stream",
     "text": [
      "Epoch 1960: train cost = 0.08371290134593724\n"
     ]
    },
    {
     "name": "stderr",
     "output_type": "stream",
     "text": [
      " 99%|█████████▊| 1972/2000 [02:56<00:02, 11.05it/s]"
     ]
    },
    {
     "name": "stdout",
     "output_type": "stream",
     "text": [
      "Epoch 1970: train cost = 0.08354231132363021\n"
     ]
    },
    {
     "name": "stderr",
     "output_type": "stream",
     "text": [
      " 99%|█████████▉| 1982/2000 [02:57<00:01, 10.92it/s]"
     ]
    },
    {
     "name": "stdout",
     "output_type": "stream",
     "text": [
      "Epoch 1980: train cost = 0.0840107982136119\n"
     ]
    },
    {
     "name": "stderr",
     "output_type": "stream",
     "text": [
      "100%|█████████▉| 1992/2000 [02:58<00:00, 11.05it/s]"
     ]
    },
    {
     "name": "stdout",
     "output_type": "stream",
     "text": [
      "Epoch 1990: train cost = 0.0836248429865903\n"
     ]
    },
    {
     "name": "stderr",
     "output_type": "stream",
     "text": [
      "100%|██████████| 2000/2000 [02:59<00:00, 11.16it/s]"
     ]
    },
    {
     "name": "stdout",
     "output_type": "stream",
     "text": [
      "Epoch 2000: train cost = 0.08350931291055132\n"
     ]
    },
    {
     "name": "stderr",
     "output_type": "stream",
     "text": [
      "\n"
     ]
    },
    {
     "data": {
      "text/plain": "([0.25147918254861046,\n  0.1630568528972458,\n  0.15553659307177856,\n  0.15003387464513676,\n  0.14619288912782208,\n  0.14315332562621783,\n  0.139678892874889,\n  0.13786184749229283,\n  0.13564638861663894,\n  0.13431354245312152,\n  0.1328504123800158,\n  0.13156293232196675,\n  0.1300768428131993,\n  0.12881392288676813,\n  0.12804524254804456,\n  0.12740233710995727,\n  0.12645994398876395,\n  0.12518453188420883,\n  0.12510645526791914,\n  0.12386298324088606,\n  0.12300586083265333,\n  0.12356662522316632,\n  0.12205718696290778,\n  0.12168381188074665,\n  0.12090304319270748,\n  0.12071435176973622,\n  0.12028932398532725,\n  0.11995859386442487,\n  0.11916481235300688,\n  0.11912085252626356,\n  0.11853894297061206,\n  0.11830149799646868,\n  0.11805127944024059,\n  0.11753012630164474,\n  0.11758863154782964,\n  0.11714970357048944,\n  0.11686437638156624,\n  0.11674926851055913,\n  0.11650220565793022,\n  0.11645262003523997,\n  0.11565820499619264,\n  0.11520977049607584,\n  0.11509378331652925,\n  0.11462420925643528,\n  0.11427401721107008,\n  0.11447274754060952,\n  0.11392491515120415,\n  0.11359132911563449,\n  0.11340629043706964,\n  0.11295095784058942,\n  0.11331559223099388,\n  0.11295219086310918,\n  0.11226918594354504,\n  0.11177773995635355,\n  0.1118316562917542,\n  0.11165127228796727,\n  0.11104717733335068,\n  0.1108178488155769,\n  0.11037393477605528,\n  0.11026052456210635,\n  0.10975214337507494,\n  0.1098179600769485,\n  0.10940746872012276,\n  0.10944187771983908,\n  0.10902379379835296,\n  0.10884669035208237,\n  0.1088115854856405,\n  0.10850271123098815,\n  0.1079317470924589,\n  0.10797276746626712,\n  0.10756508987084881,\n  0.10766439816718745,\n  0.10794000464890324,\n  0.10704366862221916,\n  0.10719338819945232,\n  0.1073713620684357,\n  0.10674978212281518,\n  0.10678353711596432,\n  0.10648425707790762,\n  0.10693752037957885,\n  0.1063525578265107,\n  0.10589579437654936,\n  0.10638591387151504,\n  0.10578850902719063,\n  0.10579888877000929,\n  0.10634597048478053,\n  0.10594764441752877,\n  0.1060540398316998,\n  0.10578740143117812,\n  0.1051017246314218,\n  0.10520347662711968,\n  0.10544931854779413,\n  0.10486725781104464,\n  0.10448541679522408,\n  0.10505326540162091,\n  0.10470862584481572,\n  0.10479454857627372,\n  0.10449962818968035,\n  0.10445532995944105,\n  0.10445215310115936,\n  0.10398455993867772,\n  0.10438428951792726,\n  0.10397020405396193,\n  0.10407903559328817,\n  0.10433598115187043,\n  0.10361439306811378,\n  0.10358611524501805,\n  0.10356645800661407,\n  0.10358082910567876,\n  0.10356378244899879,\n  0.10319097986090528,\n  0.1033070727316117,\n  0.10293845843762889,\n  0.102832102137389,\n  0.10278576539190512,\n  0.10367988804199665,\n  0.10268910131020002,\n  0.10295128771985484,\n  0.10311381235324313,\n  0.10315072963338047,\n  0.10247414365914179,\n  0.10252894334106477,\n  0.10257035355000343,\n  0.10234218903681325,\n  0.10273807991022031,\n  0.10225413705296149,\n  0.10219325201861966,\n  0.10203598881856797,\n  0.10229337101761396,\n  0.10236854154355543,\n  0.10215190397787395,\n  0.10222023586219074,\n  0.10187158962699308,\n  0.10214376473486979,\n  0.10235256818111771,\n  0.10186752377166607,\n  0.10195673316020101,\n  0.10163788823885621,\n  0.10164255039196936,\n  0.10167637159412544,\n  0.1018945155353689,\n  0.10130525717923711,\n  0.10133981135564148,\n  0.10192396090679877,\n  0.10159377226552033,\n  0.1016957077888805,\n  0.10117692831030002,\n  0.1015521617974556,\n  0.10152761655686215,\n  0.10136252846494345,\n  0.10182866526872247,\n  0.10196325801374029,\n  0.10126233000718432,\n  0.10073464047032406,\n  0.10101241392136077,\n  0.10108591124250209,\n  0.10086975591458354,\n  0.10107104882234023,\n  0.10054659526787145,\n  0.10082767567345093,\n  0.10059257397406651,\n  0.10076548997975902,\n  0.100808814631063,\n  0.10006118771857618,\n  0.10061330258573123,\n  0.10024581416165476,\n  0.10075122311763439,\n  0.1006605591373244,\n  0.10010215412749415,\n  0.1001112807247363,\n  0.10015209976731038,\n  0.10004770035016719,\n  0.10040928208729649,\n  0.1003775139192842,\n  0.10001072944311748,\n  0.1000760157244142,\n  0.10011178572103092,\n  0.10014886503938583,\n  0.09997468313720591,\n  0.10031975770077797,\n  0.1002856433662974,\n  0.09939132443696486,\n  0.09953140720927836,\n  0.09999924744416981,\n  0.09992897849131159,\n  0.09988564606717353,\n  0.09964305854846893,\n  0.09998278382707732,\n  0.09955264031015088,\n  0.09934900739471102,\n  0.09936877040630476,\n  0.09931320775886245,\n  0.09975006858821406,\n  0.09925897944683282,\n  0.09970684851625686,\n  0.09919698999626121,\n  0.09909186300462647,\n  0.09932243427132505,\n  0.0992727235669197,\n  0.09890357956452939,\n  0.09903788361573412,\n  0.09879773136906415,\n  0.098944142902115,\n  0.09913602710248563,\n  0.09908895547874448,\n  0.09937785051540576,\n  0.09920546198127644,\n  0.09884350907788249,\n  0.0981822870332676,\n  0.09865691636520005,\n  0.0989461528483,\n  0.09893081812677353,\n  0.0987122680516549,\n  0.09831983123477626,\n  0.09853543083597781,\n  0.0989249228844008,\n  0.09880429550224211,\n  0.09865819552369876,\n  0.09836085418405062,\n  0.0982836479411554,\n  0.09934236024359461,\n  0.09864775589147344,\n  0.09865579472258165,\n  0.09832183341847942,\n  0.09815121246705726,\n  0.0980684572947319,\n  0.09862408208383497,\n  0.0980457026176575,\n  0.09829916694073025,\n  0.098105409301652,\n  0.0979646113409223,\n  0.09813115234322997,\n  0.09823288924218107,\n  0.09789643133294514,\n  0.09766473338089765,\n  0.0976561936146609,\n  0.09778981895348073,\n  0.09792878909946938,\n  0.09760441441220924,\n  0.09825336257701903,\n  0.09783128251458152,\n  0.09759721761099412,\n  0.09805112304180627,\n  0.0976380993940015,\n  0.0979581665356132,\n  0.09773285840519928,\n  0.09730464422590233,\n  0.09789769046216489,\n  0.0974494303620213,\n  0.09738858098622695,\n  0.09715968911621801,\n  0.09740739622976605,\n  0.09749285402460313,\n  0.09762933875943566,\n  0.09750638370987381,\n  0.09764029446680068,\n  0.09754285415522225,\n  0.09733765179256983,\n  0.09707543118856224,\n  0.09699977709542047,\n  0.09725933816850925,\n  0.09674895107063257,\n  0.09664931527866331,\n  0.09671475203912697,\n  0.09690378379619623,\n  0.097184294179839,\n  0.09696686398916572,\n  0.09710616047270745,\n  0.09690584176325369,\n  0.09722267553848081,\n  0.09683638663951258,\n  0.09704446766565221,\n  0.09673408957017214,\n  0.09689165652001591,\n  0.0965476948020152,\n  0.09743344015423347,\n  0.09678614102769618,\n  0.09660833971972367,\n  0.09700405802017091,\n  0.09630884462835275,\n  0.09641976930790577,\n  0.09685162252972349,\n  0.09696499289696522,\n  0.0964108365087956,\n  0.09651942794963252,\n  0.0964803155182227,\n  0.09658635836122863,\n  0.09661779245170538,\n  0.09655316038130314,\n  0.09648102414007907,\n  0.09639186423849952,\n  0.09610440144579459,\n  0.09653868984501095,\n  0.09602924876127152,\n  0.09664130407950522,\n  0.09659741125344422,\n  0.09616950014093716,\n  0.0962884171173497,\n  0.09621066484961673,\n  0.09601612959571859,\n  0.09643480664044353,\n  0.0965460688895782,\n  0.09563734042049259,\n  0.09631199164737948,\n  0.09616323725571353,\n  0.09652723895662144,\n  0.09627051166172247,\n  0.09595623861307889,\n  0.09587740052548452,\n  0.09639935382777534,\n  0.09595872708491669,\n  0.09584407623172432,\n  0.09615401412563944,\n  0.09561646373311225,\n  0.09626592074920208,\n  0.09652536612480987,\n  0.0959076161554714,\n  0.09569798546557663,\n  0.09594087223648572,\n  0.09580884106161747,\n  0.09596338406837294,\n  0.09614629131727565,\n  0.09572746834244829,\n  0.09557086669055474,\n  0.09599576373629254,\n  0.09602534358975467,\n  0.09554678168003745,\n  0.09598655773044495,\n  0.09568600419111832,\n  0.09583444373181453,\n  0.09573627351436194,\n  0.095676594249119,\n  0.09574512952397914,\n  0.09582474230631087,\n  0.09589951898978519,\n  0.09591685883819778,\n  0.09589647081701883,\n  0.09559807697961185,\n  0.09538685082864966,\n  0.09579160623810482,\n  0.095507287915837,\n  0.09563125589437306,\n  0.09551662209074137,\n  0.09561040881008272,\n  0.09540879926618145,\n  0.0951906214453791,\n  0.09560671314981023,\n  0.09543303799502469,\n  0.09548464129115664,\n  0.09544875220678642,\n  0.09481698391129945,\n  0.09502616917467832,\n  0.09517759085376215,\n  0.0952307468363156,\n  0.09533397231939687,\n  0.09514779971465533,\n  0.09467547249189044,\n  0.09560436310369345,\n  0.09505442849052367,\n  0.09582080727241843,\n  0.09504574489717697,\n  0.09485755942800961,\n  0.09568738901678424,\n  0.09495000364382573,\n  0.09585242775071556,\n  0.0952318866722597,\n  0.09547042064881853,\n  0.09480016845877892,\n  0.09496954455132904,\n  0.0947621308776984,\n  0.09494860846569483,\n  0.09493135301227137,\n  0.09437573193246061,\n  0.09475344733043965,\n  0.09493327285508213,\n  0.09501916748042236,\n  0.0946441045678274,\n  0.09464043581642477,\n  0.09482630477563982,\n  0.0944590949222629,\n  0.09443394089821787,\n  0.0945171559152596,\n  0.09439362758807184,\n  0.09432977146329895,\n  0.09502327406768918,\n  0.09488841124816788,\n  0.0945721114598593,\n  0.09476291649120915,\n  0.09495709003568395,\n  0.09471426155547444,\n  0.09481471846725643,\n  0.09443583558734253,\n  0.09473413536062754,\n  0.09421697004396441,\n  0.09435364806350213,\n  0.09492570177457904,\n  0.09486979377540664,\n  0.0943135053779753,\n  0.09479844615876062,\n  0.09425714447984271,\n  0.09423359858126111,\n  0.09421645324705182,\n  0.09473620890908435,\n  0.09430891350173248,\n  0.09452402649414282,\n  0.09459490193999584,\n  0.09488037924278811,\n  0.09459504683841864,\n  0.09442294362988642,\n  0.09452493815045876,\n  0.09391613200132602,\n  0.09381791273814097,\n  0.0943774594693045,\n  0.09546275014148259,\n  0.09410878524287049,\n  0.09451793347390251,\n  0.0944437228650057,\n  0.09409814363840802,\n  0.09406633511260737,\n  0.09385824049830721,\n  0.09412310116697488,\n  0.09366593664069425,\n  0.09373376018355206,\n  0.09387159733597963,\n  0.09391778579821886,\n  0.09391879824007192,\n  0.09388166576136636,\n  0.09412860399670127,\n  0.09438256313152833,\n  0.09362389382826784,\n  0.09366594776458821,\n  0.09414222845338228,\n  0.09401381679007863,\n  0.09410020799486735,\n  0.09378662924164011,\n  0.09399879881383845,\n  0.09368692906239981,\n  0.09343147562667005,\n  0.09341982678326571,\n  0.09387196779889913,\n  0.093719433609028,\n  0.09362145806273905,\n  0.09367686453291042,\n  0.09386275091578614,\n  0.0939254168810072,\n  0.09338575060956963,\n  0.09343815286009702,\n  0.09388420733790771,\n  0.0934791294603419,\n  0.09346401332141417,\n  0.09332004058523115,\n  0.09359028188897577,\n  0.0933795690469713,\n  0.09329908153217108,\n  0.09376594291084954,\n  0.09355168197406574,\n  0.09428748533664699,\n  0.0935428214462619,\n  0.0935959684403184,\n  0.09347304750344013,\n  0.0933216865777663,\n  0.09332974476857107,\n  0.09332725408316903,\n  0.09291846606697217,\n  0.09323609392691766,\n  0.09316094445547395,\n  0.09339468705341808,\n  0.09296397806200889,\n  0.09334356299588913,\n  0.09326570456695917,\n  0.09317857276334142,\n  0.09346147707083373,\n  0.09301222993190626,\n  0.09334541074467564,\n  0.09308550429606345,\n  0.09296968737640152,\n  0.0930176473416623,\n  0.09289925523574091,\n  0.092702246808941,\n  0.09265565188197947,\n  0.09263899286889862,\n  0.09277281594366599,\n  0.09317798123288942,\n  0.09289505540431768,\n  0.09259668429765511,\n  0.09267051890653628,\n  0.0927522699387756,\n  0.09271682570069507,\n  0.09280333594328144,\n  0.09331776576578231,\n  0.09284247887339453,\n  0.09306462900009757,\n  0.09299719901308906,\n  0.09239272718284657,\n  0.0925816040681038,\n  0.09265660786276848,\n  0.09225113345809505,\n  0.09272971418007842,\n  0.09241885575866464,\n  0.09276385564026937,\n  0.09242177405948065,\n  0.0919800025157336,\n  0.09237649255551322,\n  0.09265412185708437,\n  0.09217360432851118,\n  0.09214219955893893,\n  0.09231943560650138,\n  0.09231819146673298,\n  0.0924571597649539,\n  0.09227524291021708,\n  0.09188412684154791,\n  0.09235260014433189,\n  0.09198146665823421,\n  0.09241598215314094,\n  0.09184605362242411,\n  0.09252321820416845,\n  0.09188930619101135,\n  0.09180374046524499,\n  0.09195881069802303,\n  0.09198381817917986,\n  0.09197852767017092,\n  0.0918584448865954,\n  0.09158542300144194,\n  0.09214030284919905,\n  0.09176096206926998,\n  0.09190133860591311,\n  0.09213044389117933,\n  0.09198125949626589,\n  0.09167994955471709,\n  0.09158169067141095,\n  0.09149815374801569,\n  0.09163741529298541,\n  0.09156505923955839,\n  0.09142303170263881,\n  0.09155012050651008,\n  0.09190881533877514,\n  0.09141218137238978,\n  0.09115704963646121,\n  0.09203855460527738,\n  0.0917542308851385,\n  0.09144855180995036,\n  0.09131006906095746,\n  0.09101818102793659,\n  0.09156007812255927,\n  0.09166742183643692,\n  0.09111713300493637,\n  0.09159501680856984,\n  0.09136518438883491,\n  0.09135196716471697,\n  0.09128120620904234,\n  0.09111083900141283,\n  0.091482253913785,\n  0.09170241913519872,\n  0.0913197535682161,\n  0.09109508465158762,\n  0.0913232881248906,\n  0.09076482423305238,\n  0.09098444537934955,\n  0.09093412787448522,\n  0.091086589363444,\n  0.09128731643467848,\n  0.09073912349975286,\n  0.09139663190988044,\n  0.09077200629173512,\n  0.09070850405296409,\n  0.09104454694094641,\n  0.09068572281341546,\n  0.09039060967205442,\n  0.09079898476162349,\n  0.09074939854052046,\n  0.09106083928686952,\n  0.0909000015261283,\n  0.0904225240003954,\n  0.09060915146623223,\n  0.09081767123937012,\n  0.09038814751615343,\n  0.09022701026219801,\n  0.0909613699146551,\n  0.09041284857870151,\n  0.09078927389281052,\n  0.090742628020884,\n  0.0902343953382062,\n  0.09065051674800727,\n  0.09050595790089165,\n  0.09024278060667482,\n  0.09067868454394089,\n  0.09063238425557103,\n  0.09082110640952187,\n  0.09022052448663355,\n  0.09020186939651773,\n  0.0903566155430479,\n  0.09069872180739857,\n  0.09063577072844055,\n  0.0905926810755162,\n  0.09008698566136761,\n  0.09023208391951726,\n  0.0901748910438083,\n  0.09001173044025405,\n  0.09027792577520494,\n  0.09048699327508572,\n  0.09025159861357931,\n  0.09018720222800718,\n  0.0903342329700986,\n  0.09011709028595603,\n  0.08988314499555863,\n  0.09024504772179494,\n  0.08969624940651355,\n  0.09025130233031357,\n  0.0903140811181934,\n  0.09012732748290726,\n  0.09032013105265152,\n  0.08987192049636775,\n  0.08957741731677703,\n  0.09017042523077366,\n  0.08968943784157342,\n  0.08998883841584608,\n  0.08977103935985108,\n  0.08989388901222996,\n  0.0903548602851608,\n  0.08974765511547712,\n  0.08953826787760175,\n  0.09057521523481091,\n  0.08969413572089283,\n  0.08985774681532993,\n  0.09017211831045058,\n  0.08924951595483924,\n  0.08934947208794825,\n  0.08926834532233673,\n  0.08989723126157798,\n  0.0899668092546604,\n  0.0896082904981434,\n  0.0898903772042313,\n  0.0894989093098374,\n  0.0894523105783032,\n  0.08958627395404609,\n  0.08983654363867775,\n  0.08984843123775156,\n  0.0894479839491213,\n  0.08941160140285304,\n  0.08971245194202208,\n  0.08963475842733452,\n  0.08959930370953756,\n  0.08951684445576437,\n  0.08946411064154033,\n  0.08953473109138549,\n  0.08943456768142816,\n  0.08956425880883971,\n  0.08920459408524968,\n  0.0892074200275309,\n  0.08972947356422813,\n  0.08945949091098129,\n  0.08952076702484792,\n  0.08947589432878214,\n  0.08921357990067312,\n  0.08990328333320702,\n  0.08976256840715385,\n  0.08974887471757863,\n  0.08932473865422018,\n  0.08922725887373871,\n  0.08906625890523569,\n  0.08930272464853518,\n  0.08892055950993566,\n  0.08938667919884763,\n  0.08989911228252377,\n  0.08930088033937982,\n  0.08906791552975432,\n  0.08932023315616502,\n  0.08903898501624746,\n  0.08889528585775716,\n  0.08936532792439413,\n  0.08930947326511814,\n  0.08913043835853335,\n  0.08952292934337393,\n  0.08938110628064304,\n  0.08897388544552647,\n  0.08897587569043089,\n  0.08924228333601024,\n  0.088611909767104,\n  0.08909944718007998,\n  0.0891275461860574,\n  0.08915507646098941,\n  0.08919206769616213,\n  0.08909671237350253,\n  0.08888585855408758,\n  0.08875777626370186,\n  0.08886486756334878,\n  0.0890565669660008,\n  0.08916020833849729,\n  0.0893828871124085,\n  0.08871613476741998,\n  0.08865170375074415,\n  0.08941707685982928,\n  0.08897168586297446,\n  0.08881941685880437,\n  0.08869201323895996,\n  0.08891133665544208,\n  0.08904408198068858,\n  0.08891127968726481,\n  0.0886537634120628,\n  0.08887585985382414,\n  0.08855371838140547,\n  0.08869008212150174,\n  0.08877194931285719,\n  0.08875743505564615,\n  0.08891876041667982,\n  0.08856775009750852,\n  0.08872995128405425,\n  0.08879885478256574,\n  0.08856271087306987,\n  0.08916545658161806,\n  0.0898016941798995,\n  0.08833298235894327,\n  0.08864631879118344,\n  0.08854539233333461,\n  0.08890535208261781,\n  0.08903875165772257,\n  0.08840408929114853,\n  0.08844155303012685,\n  0.08878179857876341,\n  0.08892202562397415,\n  0.0886317698858083,\n  0.08858166522057702,\n  0.08828158042303906,\n  0.08831555117142263,\n  0.08862763364492844,\n  0.0886969579718963,\n  0.08799799734853102,\n  0.08854966915887313,\n  0.0885816037114793,\n  0.08908080431728117,\n  0.08853313770123483,\n  0.08805282264438054,\n  0.08852092354860867,\n  0.08848285333727358,\n  0.08864308599565161,\n  0.0886003004176972,\n  0.08835446989020582,\n  0.08868603984339547,\n  0.08875158168017545,\n  0.08888586398831594,\n  0.08824983915964363,\n  0.08845686499220431,\n  0.08845791685031745,\n  0.08829736358501818,\n  0.08852262355197127,\n  0.08838391871559835,\n  0.08815099285006457,\n  0.08827591543747691,\n  0.08830102181522308,\n  0.08814333435555952,\n  0.08837815223812732,\n  0.08889703042030835,\n  0.08831905448715108,\n  0.08801607364487748,\n  0.08845131739625153,\n  0.08825786100397885,\n  0.08828277532129258,\n  0.08798940272222716,\n  0.08838234524866216,\n  0.08824494646879187,\n  0.08806945710606817,\n  0.08835322995082893,\n  0.08885148910510417,\n  0.087754165274577,\n  0.08811192209974186,\n  0.08821882488796919,\n  0.08814312749513162,\n  0.08795466207761439,\n  0.088295938399312,\n  0.08795314899656514,\n  0.0884527786717517,\n  0.0881156152702473,\n  0.08895239963596605,\n  0.08766067640965076,\n  0.0881654788632107,\n  0.08792287448776813,\n  0.08814790170161088,\n  0.08790591301952619,\n  0.08825478241644386,\n  0.08749094683231522,\n  0.0883437635157177,\n  0.08755767887322681,\n  0.08810699264901618,\n  0.08794456198288655,\n  0.08776859504345425,\n  0.08846103692134802,\n  0.08786169703903109,\n  0.08833292136590376,\n  0.08769431094692265,\n  0.08787406144417359,\n  0.08814705640610238,\n  0.08771672461729324,\n  0.0877552963797917,\n  0.08766523172048184,\n  0.08745304845145788,\n  0.08768012557954824,\n  0.08885595569781309,\n  0.08784879944548794,\n  0.08797059207625212,\n  0.08800699408002194,\n  0.08775237324000246,\n  0.0879540357567357,\n  0.0878541855806078,\n  0.08768711188985041,\n  0.0878160147900872,\n  0.08858375696743119,\n  0.08752839748264825,\n  0.08830199174706735,\n  0.08838977642171186,\n  0.08802201065490951,\n  0.08791476823269224,\n  0.08767791863083826,\n  0.0882102910325851,\n  0.08807378917551618,\n  0.08768007236595073,\n  0.08793025153454487,\n  0.088427041152979,\n  0.08879961039130767,\n  0.08845502984271163,\n  0.08750824864443756,\n  0.08753754353325705,\n  0.08765687200182369,\n  0.08768072505740751,\n  0.08769234122511824,\n  0.0875497467036263,\n  0.08732833434655209,\n  0.08806340644475519,\n  0.08778894366666375,\n  0.08748109875870069,\n  0.08825535832448077,\n  0.08740731076639373,\n  0.08741005531068238,\n  0.08734188939083865,\n  0.08733463326586374,\n  0.08737620344637344,\n  0.08807097399227677,\n  0.08721492277864272,\n  0.0877818597035736,\n  0.08755712524444192,\n  0.08795092124918363,\n  0.08759464793444531,\n  0.08751250569648855,\n  0.08786413492970922,\n  0.08766118984610602,\n  0.08822938549468971,\n  0.08801615270562857,\n  0.08724526225139038,\n  0.08778154265685291,\n  0.08717702851289426,\n  0.08748523420151617,\n  0.08756218358142497,\n  0.08747083469718517,\n  0.08754466279082547,\n  0.08801600843402946,\n  0.08808258900171219,\n  0.08707328004666588,\n  0.0872328092475172,\n  0.08720729540910024,\n  0.0873378225016133,\n  0.08756478438193523,\n  0.08760765028914848,\n  0.08786645669715477,\n  0.08721984861453887,\n  0.08745103358278486,\n  0.08779715862030944,\n  0.0880087445451725,\n  0.08739184504996271,\n  0.08778404495025482,\n  0.0875488992691198,\n  0.08756943133706604,\n  0.08766919545998783,\n  0.08776065211521415,\n  0.08766669598643305,\n  0.08709969098833496,\n  0.0869997069669421,\n  0.08723795224733755,\n  0.08838136916452818,\n  0.08751332593027887,\n  0.0869081725323509,\n  0.0872554632095341,\n  0.0868654454961929,\n  0.08746221774406737,\n  0.08800132128977203,\n  0.08723922430446984,\n  0.08717030554478522,\n  0.08742507226018432,\n  0.08708079819469222,\n  0.0870538739818161,\n  0.08738835929363359,\n  0.08757117213722201,\n  0.0871280894371798,\n  0.08756599520112769,\n  0.08730207208237425,\n  0.0872113643925978,\n  0.08767701145304477,\n  0.08739180199058268,\n  0.08729499380796799,\n  0.08748023041639917,\n  0.08737902102282705,\n  0.08767693631230417,\n  0.08679673965865896,\n  0.08742405945744984,\n  0.08776339382618809,\n  0.08687489476606527,\n  0.08687176417338026,\n  0.08754677048575732,\n  0.08705004555942582,\n  0.08736464605998803,\n  0.08746991133593716,\n  0.08693548577725063,\n  0.08673647465671125,\n  0.08698633481789314,\n  0.08705078592431775,\n  0.08725814962332366,\n  0.08753503001100119,\n  0.08706854996032938,\n  0.08735267072867012,\n  0.08709322282471979,\n  0.08686256720407234,\n  0.08742546324137279,\n  0.08691441858709087,\n  0.08667313871539516,\n  0.08646079218996496,\n  0.08661139467523861,\n  0.08682614703086793,\n  0.08721403781931861,\n  0.08677965160405637,\n  0.08704800588529463,\n  0.08672073922495005,\n  0.08699070308187944,\n  0.08717669074807863,\n  0.08691889941503692,\n  0.08663508484596491,\n  0.08699276728605655,\n  0.08667107446589388,\n  0.086470583450187,\n  0.08653105254517224,\n  0.08714417129829154,\n  0.08678358379936546,\n  0.08676705338333952,\n  0.08715115525312445,\n  0.08649181917199446,\n  0.08687854402017874,\n  0.08678369487916078,\n  0.08647721772944504,\n  0.08689172978277508,\n  0.08681000073676425,\n  0.0866663293780155,\n  0.08667777257088302,\n  0.08729160132992263,\n  0.08737553988802994,\n  0.08659152508636733,\n  0.08671820720093648,\n  0.08666963118469213,\n  0.08627389436110637,\n  0.08713529901774733,\n  0.08692908133660447,\n  0.08628242477518418,\n  0.08756614825806468,\n  0.08709118550525338,\n  0.08682340513441064,\n  0.08654933864442468,\n  0.08749259434524802,\n  0.08677413427621794,\n  0.08727547170113406,\n  0.08739866465412595,\n  0.08677201008900955,\n  0.08677554023810938,\n  0.08697665912988468,\n  0.08650071782327128,\n  0.08727991847838602,\n  0.08700691472920662,\n  0.08616412027437727,\n  0.08712726831079144,\n  0.08673665370229279,\n  0.08704293695395852,\n  0.08634384611786881,\n  0.08649518837403584,\n  0.08676297437365972,\n  0.08683678854907924,\n  0.08630433907833335,\n  0.0873619595815763,\n  0.08641052986005918,\n  0.08641982298911663,\n  0.08652956450021942,\n  0.0870518889541749,\n  0.08650963498978907,\n  0.08640576113494758,\n  0.08678288170944488,\n  0.08651049704011975,\n  0.08641326505269743,\n  0.08648363932602877,\n  0.0869559573560811,\n  0.08642788943551656,\n  0.08677340414208111,\n  0.08604521925422874,\n  0.08665195706508769,\n  0.0864093731093029,\n  0.08633231992963278,\n  0.08636752581935554,\n  ...],\n [])"
     },
     "execution_count": 4,
     "metadata": {},
     "output_type": "execute_result"
    }
   ],
   "source": [
    "layer1 = FC(8,32,\"l1\")\n",
    "layer2=FC(32,16,\"l2\")\n",
    "layer3=FC(16,1,\"l3\")\n",
    "act1 = ReLU()\n",
    "act2= ReLU()\n",
    "act3= LinearActivation()\n",
    "arch = {\"l1\" : layer1,\n",
    "        \"a1\" : act1,\n",
    "        \"l2\" : layer2,\n",
    "        \"a2\" : act2,\n",
    "        \"l3\":layer3,\n",
    "        \"a3\":act3\n",
    "        }\n",
    "layers_list =  {\"l1\":  layer1, \"l2\": layer2,\"l3\":layer3}\n",
    "criterion = MeanSquaredError()\n",
    "optimizer = Adam(layers_list)\n",
    "model = Model(arch,criterion,optimizer)\n",
    "model.train(X.T,y.T,epochs=2000, batch_size=200, verbose=10, shuffling=True,save_after=\"model1\")"
   ],
   "metadata": {
    "collapsed": false
   }
  },
  {
   "cell_type": "code",
   "execution_count": 5,
   "outputs": [
    {
     "data": {
      "text/plain": "0.12083110154727648"
     },
     "execution_count": 5,
     "metadata": {},
     "output_type": "execute_result"
    }
   ],
   "source": [
    "test_features = test_data[:]\n",
    "#\n",
    "scaler2 = StandardScaler()\n",
    "# scaler = MinMaxScaler()\n",
    "normalized_test= scaler2.fit_transform(test_features)\n",
    "normalized_test = pd.DataFrame(normalized_test)\n",
    "X_test=normalized_test.iloc[:,0:8].values\n",
    "y_test = normalized_test.iloc[:,8].to_frame()\n",
    "# y = X.reshape(-1,1)\n",
    "# temp =train_data[train_data.columns[:-1]].to_numpy()\n",
    "# temp= temp.reshape(-1, 1)\n",
    "\n",
    "arr = y_test.values\n",
    "y_test =  arr.reshape(-1,1)\n",
    "\n",
    "# y_test[0:5]\n",
    "y_pred = model.predict(X_test.T)\n",
    "cost =np.mean(np.square(y_pred.T - y_test)) / 2\n",
    "cost"
   ],
   "metadata": {
    "collapsed": false
   }
  },
  {
   "cell_type": "code",
   "execution_count": 5,
   "outputs": [],
   "source": [],
   "metadata": {
    "collapsed": false
   }
  }
 ],
 "metadata": {
  "kernelspec": {
   "display_name": "Python 3",
   "language": "python",
   "name": "python3"
  },
  "language_info": {
   "codemirror_mode": {
    "name": "ipython",
    "version": 2
   },
   "file_extension": ".py",
   "mimetype": "text/x-python",
   "name": "python",
   "nbconvert_exporter": "python",
   "pygments_lexer": "ipython2",
   "version": "2.7.6"
  }
 },
 "nbformat": 4,
 "nbformat_minor": 0
}
